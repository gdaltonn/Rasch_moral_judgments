{
 "cells": [
  {
   "cell_type": "markdown",
   "id": "e9788c1a",
   "metadata": {},
   "source": [
    "# The Rasch Model and Moral Judgments"
   ]
  },
  {
   "cell_type": "markdown",
   "id": "434415b0",
   "metadata": {},
   "source": [
    "## Import modules"
   ]
  },
  {
   "cell_type": "code",
   "execution_count": 1,
   "id": "178996dc-ea2a-4f94-9bae-d80462c53b0d",
   "metadata": {
    "slideshow": {
     "slide_type": "subslide"
    }
   },
   "outputs": [],
   "source": [
    "import pandas as pd\n",
    "import numpy as np"
   ]
  },
  {
   "cell_type": "markdown",
   "id": "03a311b2",
   "metadata": {},
   "source": [
    "## Dataset context"
   ]
  },
  {
   "cell_type": "markdown",
   "id": "da532596",
   "metadata": {},
   "source": [
    "Citation: Thomas, A.J., Stanford, P. K., & Sarnecka, B. W. (2016). No Child Left Alone: Moral Judgments about Parents Affect Estimates of Risk to Children. Collabra, 2(1).\n",
    "* OSF study database (including 2 pilots and 6 experiments): https://osf.io/dr7hg/\n",
    "* Research article: https://online.ucpress.edu/collabra/article/2/1/10/112682/No-Child-Left-Alone-Moral-Judgments-about-Parents\n",
    "* supplementary data Appendix A: https://ucp.silverchair-cdn.com/ucp/content_public/journal/collabra/2/1/10.1525_collabra.33/3/s1-collabra-33_thomas.pdf?Expires=1722469392&Signature=bOC42SgeYHCFUk6eXzIEmghIFUs5mxoMpNoSuJmYxOS-tfE4sj9gaTCDw0yjgtKtJJTLiO7dviyB~Xn5maZfF4BC7V0jW9utVS2u~Fvka7f9Uhxp0C6gKZumQUsDNjq89~NN3LxmxTeV2BZviT71c3X1ZWkw6I9Ts6P7D5yJqH0Igo6QlZcU-3v9OhntwQH9-gd2vRcXPnaBOAsETjv3RPVuZ6gSBwD9IIuStWsj6tEQiJK2WTt~rMexFhhl2LUvvHEOmeWwHaTJ4sfREYgmEKZkUcOXSdULmmJBrmg15V40KW1lZjery64wIgJMPsuYstXwWjS6Jk3y7pBMYLKYFA__&Key-Pair-Id=APKAIE5G5CRDK6RD3PGA\n"
   ]
  },
  {
   "cell_type": "markdown",
   "id": "74921b06",
   "metadata": {},
   "source": [
    "### Study 1"
   ]
  },
  {
   "cell_type": "markdown",
   "id": "fb541a7a",
   "metadata": {},
   "source": [
    "conditions of the vignettes:\n",
    "* unintentional\n",
    "* affair\n",
    "* work\n",
    "* relax\n",
    "* volunteer\n",
    "\n",
    "order of vignettes in df:\n",
    "* Sandy 1 column z unintentional\n",
    "* Emily 1 AA affair\n",
    "* Jan 1 AB work\n",
    "* Lisa 1 AC relax\n",
    "* Pauline 1 AD volunteer\n",
    "* Cindy 1 control\n",
    "\n",
    "* Cindy columns are always last in prompts (consistent place)\n",
    "* the order of conditions are the same, and the people vary/swap places in each cycle\n",
    "    * so Sandy is untintentional in 1st cycle, and Pauline is unintentional in the 2nd cycle"
   ]
  },
  {
   "cell_type": "markdown",
   "id": "1f47fc06",
   "metadata": {},
   "source": [
    "### Questions and key:"
   ]
  },
  {
   "cell_type": "markdown",
   "id": "3d164fe9",
   "metadata": {},
   "source": [
    "Key/legend:\n",
    "* Sandy1 = Sandy unintentional\n",
    "* Emily1 = Emily affair\n",
    "* Jan1 = Jan work\n",
    "* Lisa1 = Lisa relax\n",
    "* Pauline1 = Pauline volunteer\n",
    "* Pauline2 = Pauline unintentional\n",
    "* Sandy2 = Sandy affair\n",
    "* Emily2 = Emily work\n",
    "* Jan2 = Jan relax\n",
    "* Lisa2 = Lisa volunteer\n",
    "* Lisa3 = Lisa unintentional\n",
    "* Pauline3 = Pauline affair\n",
    "* Sandy3 = Sandy work\n",
    "* Emily3 = Emily relax\n",
    "* Jan3 = Jan volunteer\n",
    "* Jan4 = Jan unintentional\n",
    "* Lisa4 = Lisa affair\n",
    "* Pauline4 = Pauline work\n",
    "* Sandy4 = Sandy relax\n",
    "* Emily4 = Emily volunteer\n",
    "* Emily5 = Emily unintentional\n",
    "* Jan5 = Jan affair\n",
    "* Lisa5 = Lisa work\n",
    "* Pauline5 = Pauline relax\n",
    "* Sandy5 = Sandy volunteer"
   ]
  },
  {
   "cell_type": "markdown",
   "id": "f85dae63",
   "metadata": {},
   "source": [
    "## Explore the data"
   ]
  },
  {
   "cell_type": "code",
   "execution_count": 2,
   "id": "c2cf1bf4",
   "metadata": {},
   "outputs": [
    {
     "data": {
      "text/html": [
       "<div>\n",
       "<style scoped>\n",
       "    .dataframe tbody tr th:only-of-type {\n",
       "        vertical-align: middle;\n",
       "    }\n",
       "\n",
       "    .dataframe tbody tr th {\n",
       "        vertical-align: top;\n",
       "    }\n",
       "\n",
       "    .dataframe thead th {\n",
       "        text-align: right;\n",
       "    }\n",
       "</style>\n",
       "<table border=\"1\" class=\"dataframe\">\n",
       "  <thead>\n",
       "    <tr style=\"text-align: right;\">\n",
       "      <th></th>\n",
       "      <th>ID</th>\n",
       "      <th>Unnamed: 1</th>\n",
       "      <th>Unnamed: 2</th>\n",
       "      <th>Response ID</th>\n",
       "      <th>Time Started</th>\n",
       "      <th>Date Submitted</th>\n",
       "      <th>Status</th>\n",
       "      <th>Country</th>\n",
       "      <th>City</th>\n",
       "      <th>State/Region</th>\n",
       "      <th>...</th>\n",
       "      <th>Pauline N. (33) is an accountant and the mother of Susie, age 8. On Wednesday and Saturday afternoons, Pauline takes Susie to karate class after school, and afterward to Starbucks for a treat. While Susie is at karate, Pauline goes to a spa, which is down the street from the karate school, and gets a massage. One day, the karate school is closed. So Pauline gives Susie some money, and Susie runs ahead into the Starbucks, while Pauline goes to get her massage. Susie is so absorbed in reading \"The Hunger Games\" and eating her snacks that she barely notices her mother's absence. Susie is in the Starbucks for about 45 minutes, until her mother returns. On a scale of 1 to 10, with 1 being SAFEST/LOWEST RISK, and 10 being MOST DANGEROUS/HIGHEST RISK, what is the risk of some harm coming to the child during the time that the parent is gone?</th>\n",
       "      <th>Sandy A. (26) is a safety inspector and the mother of 10-month-old Baby Olivia. On Tuesday evenings, Sandy volunteers at a local gym, helping stroke patients learn to walk again. At these times, she leaves Olivia with her mom (Olivia's grandma). One evening in early fall, Olivia's grandma is out of town. So Sandy drives to the gym and parks in the gym's cool underground parking garage. Olivia, who is buckled into her carseat, falls asleep as soon as the car stops moving. Sandy locks the car and goes into the gym. Olivia is in the car, asleep, for about 15 minutes until Sandy returns.  On a scale of 1 to 10, with 1 being SAFEST/LOWEST RISK, and 10 being MOST DANGEROUS/HIGHEST RISK, what is the risk of some harm coming to the child during the time that the parent is gone?</th>\n",
       "      <th>Cindy P. (32) is an accountant and the mother Dorothy, age 3. On Tuesday evenings, Cindy takes Dorothy to the fair to eat cotton candy. This is just a test question please answer '7'. Cindy leaves Dorothy alone for four hours. On a scale of 1 to 10, with 1 being SAFEST/LOWEST RISK, and 10 being MOST DANGEROUS/HIGHEST RISK, what is the risk of some harm coming to the child during the time that the parent is gone?.2</th>\n",
       "      <th>I had a good idea about what the hypotheses were in this research.</th>\n",
       "      <th>I knew what the researchers were investigating with this research.</th>\n",
       "      <th>I was unclear about exactly what the researchers were aiming to prove in this research</th>\n",
       "      <th>I wasn't sure what the researchers were trying to demonstrate in this research.</th>\n",
       "      <th>What do you think this research was about? What do you think the researchers were trying to prove with this experiment?</th>\n",
       "      <th>Please provide any additional comments or concerns about this survey.</th>\n",
       "      <th>What do you think this research was about? What do you think the researchers were trying to prove with this experiment?.1</th>\n",
       "    </tr>\n",
       "  </thead>\n",
       "  <tbody>\n",
       "    <tr>\n",
       "      <th>0</th>\n",
       "      <td>6550735453866975667874747480</td>\n",
       "      <td>NaN</td>\n",
       "      <td>NaN</td>\n",
       "      <td>3.0</td>\n",
       "      <td>2014-12-07 20:09:00</td>\n",
       "      <td>2014-12-07 20:17:00</td>\n",
       "      <td>Complete</td>\n",
       "      <td>United States</td>\n",
       "      <td>Greeley</td>\n",
       "      <td>CO</td>\n",
       "      <td>...</td>\n",
       "      <td>NaN</td>\n",
       "      <td>NaN</td>\n",
       "      <td>NaN</td>\n",
       "      <td>6.0</td>\n",
       "      <td>5.0</td>\n",
       "      <td>6.0</td>\n",
       "      <td>5.0</td>\n",
       "      <td>I think the researchers were looking to find o...</td>\n",
       "      <td>NaN</td>\n",
       "      <td>I think the researchers were looking to find o...</td>\n",
       "    </tr>\n",
       "    <tr>\n",
       "      <th>1</th>\n",
       "      <td>6550726687795080569054907851</td>\n",
       "      <td>NaN</td>\n",
       "      <td>NaN</td>\n",
       "      <td>4.0</td>\n",
       "      <td>2014-12-07 20:10:00</td>\n",
       "      <td>2014-12-07 20:17:00</td>\n",
       "      <td>Complete</td>\n",
       "      <td>NaN</td>\n",
       "      <td>NaN</td>\n",
       "      <td>NaN</td>\n",
       "      <td>...</td>\n",
       "      <td>NaN</td>\n",
       "      <td>NaN</td>\n",
       "      <td>NaN</td>\n",
       "      <td>6.0</td>\n",
       "      <td>5.0</td>\n",
       "      <td>3.0</td>\n",
       "      <td>3.0</td>\n",
       "      <td>How safe or unsafe certain situations appeared...</td>\n",
       "      <td>None.</td>\n",
       "      <td>How safe or unsafe certain situations appeared...</td>\n",
       "    </tr>\n",
       "    <tr>\n",
       "      <th>2</th>\n",
       "      <td>6550678253578276816556678581</td>\n",
       "      <td>NaN</td>\n",
       "      <td>NaN</td>\n",
       "      <td>5.0</td>\n",
       "      <td>2014-12-07 20:11:00</td>\n",
       "      <td>2014-12-07 20:19:00</td>\n",
       "      <td>Complete</td>\n",
       "      <td>NaN</td>\n",
       "      <td>NaN</td>\n",
       "      <td>NaN</td>\n",
       "      <td>...</td>\n",
       "      <td>NaN</td>\n",
       "      <td>NaN</td>\n",
       "      <td>NaN</td>\n",
       "      <td>4.0</td>\n",
       "      <td>4.0</td>\n",
       "      <td>1.0</td>\n",
       "      <td>1.0</td>\n",
       "      <td>Never leave your child alone NEVER for no reas...</td>\n",
       "      <td>NaN</td>\n",
       "      <td>Never leave your child alone NEVER for no reas...</td>\n",
       "    </tr>\n",
       "    <tr>\n",
       "      <th>3</th>\n",
       "      <td>6551758383694872684881788574</td>\n",
       "      <td>NaN</td>\n",
       "      <td>NaN</td>\n",
       "      <td>6.0</td>\n",
       "      <td>2014-12-07 20:11:00</td>\n",
       "      <td>2014-12-07 20:14:00</td>\n",
       "      <td>Complete</td>\n",
       "      <td>United States</td>\n",
       "      <td>Denton</td>\n",
       "      <td>TX</td>\n",
       "      <td>...</td>\n",
       "      <td>NaN</td>\n",
       "      <td>NaN</td>\n",
       "      <td>NaN</td>\n",
       "      <td>4.0</td>\n",
       "      <td>4.0</td>\n",
       "      <td>3.0</td>\n",
       "      <td>3.0</td>\n",
       "      <td>MORAL JUDGEMENTS</td>\n",
       "      <td>NaN</td>\n",
       "      <td>MORAL JUDGEMENTS</td>\n",
       "    </tr>\n",
       "    <tr>\n",
       "      <th>4</th>\n",
       "      <td>6549765480717669556773834950</td>\n",
       "      <td>NaN</td>\n",
       "      <td>NaN</td>\n",
       "      <td>7.0</td>\n",
       "      <td>2014-12-07 20:11:00</td>\n",
       "      <td>2014-12-07 20:17:00</td>\n",
       "      <td>Complete</td>\n",
       "      <td>NaN</td>\n",
       "      <td>NaN</td>\n",
       "      <td>NaN</td>\n",
       "      <td>...</td>\n",
       "      <td>NaN</td>\n",
       "      <td>NaN</td>\n",
       "      <td>NaN</td>\n",
       "      <td>5.0</td>\n",
       "      <td>5.0</td>\n",
       "      <td>5.0</td>\n",
       "      <td>5.0</td>\n",
       "      <td>Perceptions of danger to children when left al...</td>\n",
       "      <td>NaN</td>\n",
       "      <td>Perceptions of danger to children when left al...</td>\n",
       "    </tr>\n",
       "  </tbody>\n",
       "</table>\n",
       "<p>5 rows × 62 columns</p>\n",
       "</div>"
      ],
      "text/plain": [
       "                             ID  Unnamed: 1  Unnamed: 2  Response ID  \\\n",
       "0  6550735453866975667874747480         NaN         NaN          3.0   \n",
       "1  6550726687795080569054907851         NaN         NaN          4.0   \n",
       "2  6550678253578276816556678581         NaN         NaN          5.0   \n",
       "3  6551758383694872684881788574         NaN         NaN          6.0   \n",
       "4  6549765480717669556773834950         NaN         NaN          7.0   \n",
       "\n",
       "         Time Started      Date Submitted    Status        Country     City  \\\n",
       "0 2014-12-07 20:09:00 2014-12-07 20:17:00  Complete  United States  Greeley   \n",
       "1 2014-12-07 20:10:00 2014-12-07 20:17:00  Complete            NaN      NaN   \n",
       "2 2014-12-07 20:11:00 2014-12-07 20:19:00  Complete            NaN      NaN   \n",
       "3 2014-12-07 20:11:00 2014-12-07 20:14:00  Complete  United States   Denton   \n",
       "4 2014-12-07 20:11:00 2014-12-07 20:17:00  Complete            NaN      NaN   \n",
       "\n",
       "  State/Region  ...  \\\n",
       "0           CO  ...   \n",
       "1          NaN  ...   \n",
       "2          NaN  ...   \n",
       "3           TX  ...   \n",
       "4          NaN  ...   \n",
       "\n",
       "   Pauline N. (33) is an accountant and the mother of Susie, age 8. On Wednesday and Saturday afternoons, Pauline takes Susie to karate class after school, and afterward to Starbucks for a treat. While Susie is at karate, Pauline goes to a spa, which is down the street from the karate school, and gets a massage. One day, the karate school is closed. So Pauline gives Susie some money, and Susie runs ahead into the Starbucks, while Pauline goes to get her massage. Susie is so absorbed in reading \"The Hunger Games\" and eating her snacks that she barely notices her mother's absence. Susie is in the Starbucks for about 45 minutes, until her mother returns. On a scale of 1 to 10, with 1 being SAFEST/LOWEST RISK, and 10 being MOST DANGEROUS/HIGHEST RISK, what is the risk of some harm coming to the child during the time that the parent is gone?  \\\n",
       "0                                                NaN                                                                                                                                                                                                                                                                                                                                                                                                                                                                                                                                                                                                                                                                                                                                                                                                                               \n",
       "1                                                NaN                                                                                                                                                                                                                                                                                                                                                                                                                                                                                                                                                                                                                                                                                                                                                                                                                               \n",
       "2                                                NaN                                                                                                                                                                                                                                                                                                                                                                                                                                                                                                                                                                                                                                                                                                                                                                                                                               \n",
       "3                                                NaN                                                                                                                                                                                                                                                                                                                                                                                                                                                                                                                                                                                                                                                                                                                                                                                                                               \n",
       "4                                                NaN                                                                                                                                                                                                                                                                                                                                                                                                                                                                                                                                                                                                                                                                                                                                                                                                                               \n",
       "\n",
       "  Sandy A. (26) is a safety inspector and the mother of 10-month-old Baby Olivia. On Tuesday evenings, Sandy volunteers at a local gym, helping stroke patients learn to walk again. At these times, she leaves Olivia with her mom (Olivia's grandma). One evening in early fall, Olivia's grandma is out of town. So Sandy drives to the gym and parks in the gym's cool underground parking garage. Olivia, who is buckled into her carseat, falls asleep as soon as the car stops moving. Sandy locks the car and goes into the gym. Olivia is in the car, asleep, for about 15 minutes until Sandy returns.  On a scale of 1 to 10, with 1 being SAFEST/LOWEST RISK, and 10 being MOST DANGEROUS/HIGHEST RISK, what is the risk of some harm coming to the child during the time that the parent is gone?  \\\n",
       "0                                                NaN                                                                                                                                                                                                                                                                                                                                                                                                                                                                                                                                                                                                                                                                                                                                                             \n",
       "1                                                NaN                                                                                                                                                                                                                                                                                                                                                                                                                                                                                                                                                                                                                                                                                                                                                             \n",
       "2                                                NaN                                                                                                                                                                                                                                                                                                                                                                                                                                                                                                                                                                                                                                                                                                                                                             \n",
       "3                                                NaN                                                                                                                                                                                                                                                                                                                                                                                                                                                                                                                                                                                                                                                                                                                                                             \n",
       "4                                                NaN                                                                                                                                                                                                                                                                                                                                                                                                                                                                                                                                                                                                                                                                                                                                                             \n",
       "\n",
       "   Cindy P. (32) is an accountant and the mother Dorothy, age 3. On Tuesday evenings, Cindy takes Dorothy to the fair to eat cotton candy. This is just a test question please answer '7'. Cindy leaves Dorothy alone for four hours. On a scale of 1 to 10, with 1 being SAFEST/LOWEST RISK, and 10 being MOST DANGEROUS/HIGHEST RISK, what is the risk of some harm coming to the child during the time that the parent is gone?.2  \\\n",
       "0                                                NaN                                                                                                                                                                                                                                                                                                                                                                                   \n",
       "1                                                NaN                                                                                                                                                                                                                                                                                                                                                                                   \n",
       "2                                                NaN                                                                                                                                                                                                                                                                                                                                                                                   \n",
       "3                                                NaN                                                                                                                                                                                                                                                                                                                                                                                   \n",
       "4                                                NaN                                                                                                                                                                                                                                                                                                                                                                                   \n",
       "\n",
       "  I had a good idea about what the hypotheses were in this research.  \\\n",
       "0                                                6.0                   \n",
       "1                                                6.0                   \n",
       "2                                                4.0                   \n",
       "3                                                4.0                   \n",
       "4                                                5.0                   \n",
       "\n",
       "  I knew what the researchers were investigating with this research.  \\\n",
       "0                                                5.0                   \n",
       "1                                                5.0                   \n",
       "2                                                4.0                   \n",
       "3                                                4.0                   \n",
       "4                                                5.0                   \n",
       "\n",
       "  I was unclear about exactly what the researchers were aiming to prove in this research  \\\n",
       "0                                                6.0                                       \n",
       "1                                                3.0                                       \n",
       "2                                                1.0                                       \n",
       "3                                                3.0                                       \n",
       "4                                                5.0                                       \n",
       "\n",
       "   I wasn't sure what the researchers were trying to demonstrate in this research.  \\\n",
       "0                                                5.0                                 \n",
       "1                                                3.0                                 \n",
       "2                                                1.0                                 \n",
       "3                                                3.0                                 \n",
       "4                                                5.0                                 \n",
       "\n",
       "   What do you think this research was about? What do you think the researchers were trying to prove with this experiment?  \\\n",
       "0  I think the researchers were looking to find o...                                                                         \n",
       "1  How safe or unsafe certain situations appeared...                                                                         \n",
       "2  Never leave your child alone NEVER for no reas...                                                                         \n",
       "3                                   MORAL JUDGEMENTS                                                                         \n",
       "4  Perceptions of danger to children when left al...                                                                         \n",
       "\n",
       "  Please provide any additional comments or concerns about this survey.  \\\n",
       "0                                                NaN                      \n",
       "1                                              None.                      \n",
       "2                                                NaN                      \n",
       "3                                                NaN                      \n",
       "4                                                NaN                      \n",
       "\n",
       "  What do you think this research was about? What do you think the researchers were trying to prove with this experiment?.1  \n",
       "0  I think the researchers were looking to find o...                                                                         \n",
       "1  How safe or unsafe certain situations appeared...                                                                         \n",
       "2  Never leave your child alone NEVER for no reas...                                                                         \n",
       "3                                   MORAL JUDGEMENTS                                                                         \n",
       "4  Perceptions of danger to children when left al...                                                                         \n",
       "\n",
       "[5 rows x 62 columns]"
      ]
     },
     "execution_count": 2,
     "metadata": {},
     "output_type": "execute_result"
    }
   ],
   "source": [
    "df = pd.read_excel('ThomasStudy1.xlsx', sheet_name='Study1')\n",
    "df.head()"
   ]
  },
  {
   "cell_type": "code",
   "execution_count": 3,
   "id": "cd9af4d2",
   "metadata": {},
   "outputs": [
    {
     "data": {
      "text/plain": [
       "Index(['ID', 'Unnamed: 1', 'Unnamed: 2', 'Response ID', 'Time Started',\n",
       "       'Date Submitted', 'Status', 'Country', 'City', 'State/Region', 'Postal',\n",
       "       'Do you accept?', 'What is your age?',\n",
       "       'What is the highest level of education you have completed?',\n",
       "       'What is your gender?', 'What is your race?',\n",
       "       '[OLD VERSION] This is a test question please answer 'Strongly Agree'',\n",
       "       'This is a test question please answer '3'',\n",
       "       'If you have completed at least some college, please indicate your field of study or major.',\n",
       "       'In what state do you reside?', 'In what country do you reside?',\n",
       "       'Do you consider yourself politically conservative or liberal?',\n",
       "       'How many children do you have? (Please count any child you are the legal guardian of)',\n",
       "       'What age is your oldest child?', 'What age is your youngest child?',\n",
       "       'Sandy A. (26) is a safety inspector and the mother of 10-month-old baby Olivia. On Tuesday evenings, Sandy takes Olivia to a \"Mommy and Me\" exercise class at a gym. One evening in early fall, Sandy and Olivia finish class and return to their car, which is parked in the gym's cool underground parking garage. Sandy buckles Olivia into her carseat (where Olivia immediately falls asleep), locks the car, and walks a few steps to the parking machine to pay for their parking. On her way back, Sandy is hit by a car and knocked unconscious. The driver immediately calls an ambulance, which takes Sandy to the hospital. No one realizes that Sandy had a child with her, or that Olivia is asleep in the back of the car. Olivia is in the car, asleep, for about 15 minutes until Sandy regains consciousness and alerts hospital staff. On a scale of 1 to 10, with 1 being SAFEST/LOWEST RISK, and 10 being MOST DANGEROUS/HIGHEST RISK, what is the risk of some harm coming to the child during the time that the parent is gone?',\n",
       "       'Emily G. (28) is an hospital administrator and the mother of Cassidy, age 2-1/2. Emily works the evening shift as a nurse, and stays home with Cassidy during the day. Every Friday afternoon, Emily goes to a hotel to meet her best friend's husband, with whom she is having a secret affair. At these times, she leaves Cassidy with a neighbor. One Friday, the neighbor is running late. So Emily makes Cassidy a snack, puts on a DVD off her favorite movie, 'Frozen,' and goes to meet her lover, locking the door behind her. Cassidy is in the house, contentedly eating her snack and watching her movie for about 20 minutes, until the neighbor picks her up. On a scale of 1 to 10, with 1 being SAFEST/LOWEST RISK, and 10 being MOST DANGEROUS/HIGHEST RISK, what is the risk of some harm coming to the child during the time that the parent is gone?',\n",
       "       'Jan D. (29) is a high-school English teacher and the mother of Grace, age 4. About once a month, Jan goes to the public library to get books to use in teaching. On these days, she leaves Grace with a babysitter. One day, the babysitter cancels at the last minute. So Jan drives to the library with Grace and parks in a shady spot near the entrance. She gives grace her iPad, which Grace immedately begins playing on. Jan gets out of the car, locks the door and goes into the library. Grace is in the car, happily playing on her iPad, for about 30 minutes until Jan returns. On a scale of 1 to 10, with 1 being SAFEST/LOWEST RISK, and 10 being MOST DANGEROUS/HIGHEST RISK, what is the risk of some harm coming to the child during the time that the parent is gone?',\n",
       "       'Lisa P. (31)  is a postal worker and the mother of Jenny, age 6. Most afternoons, Lisa picks Jenny up from school and drops her at a friend's house while Lisa goes running. One beautiful spring afternoon, the friend is not home. So Lisa drops Jenny off at a park about a mile from their house, and then goes running. Jenny is so busy playing in the park that she doesn't notice her mother's absence. Jenny is in the park for about 25 minutes until Lisa returns. On a scale of 1 to 10, with 1 being SAFEST/LOWEST RISK, and 10 being MOST DANGEROUS/HIGHEST RISK, what is the risk of some harm coming to the child during the time that the parent is gone?',\n",
       "       'Pauline N. (33) is an accountant and the mother of Susie, age 8. On Wednesday and Saturday afternoons, Pauline takes Susie to karate class after school, and afterward to Starbucks for a treat. While Susie is at karate, Pauline volunteers to read books to patients at a nursing home, which is down the street from the karate school. One day, the karate school is closed. So Pauline gives Susie some money, and Susie runs ahead into the Starbucks, while Pauline goes to do her volunteer work. Susie is so absorbed in reading \"The Hunger Games\" and eating her snacks that she barely notices her mother's absence. Susie is in the Starbucks for about 45 minutes, until her mother returns. On a scale of 1 to 10, with 1 being SAFEST/LOWEST RISK, and 10 being MOST DANGEROUS/HIGHEST RISK, what is the risk of some harm coming to the child during the time that the parent is gone?',\n",
       "       'Cindy P. (32) is an accountant and the mother Dorothy, age 3. On Tuesday evenings, Cindy takes Dorothy to the fair to eat cotton candy. This is just a test question please answer '7'. Cindy  leaves Dorothy alone for four hours. On a scale of 1 to 10, with 1 being SAFEST/LOWEST RISK, and 10 being MOST DANGEROUS/HIGHEST RISK, what is the risk of some harm coming to the child during the time that the parent is gone?',\n",
       "       'Pauline N. (33) is an accountant and the mother of Susie, age 8. On Wednesday and Saturday afternoons, Pauline takes Susie to karate class after school, and afterward to Starbucks for a treat. One day, the karate school is closed. So Pauline gives Susie some money, and Susie runs ahead into the Starbucks. Behind her, Pauline is hit by a car and knocked unconscious. The driver immediately calls an ambulance, which takes Pauline to the hospital, which is down the street from the karate school. No one realizes that Pauline had a child with her, or that Susie is alone in the cafe. Susie doesn't see the accident, but is so absorbed in reading \"The Hunger Games\" and eating her snacks that she barely notices her mother's absence. Susie is in the Starbucks for about 45 minutes, until Pauline regains consciousness and alerts hospital staff.  On a scale of 1 to 10, with 1 being SAFEST/LOWEST RISK, and 10 being MOST DANGEROUS/HIGHEST RISK, what is the risk of some harm coming to the child during the time that the parent is gone?',\n",
       "       'Sandy A. (26) is a safety inspector and the mother of 10-month-old Baby Olivia. On Tuesday evenings, Sandy goes to meet her best friend's husband (with whom she is having a secret affair) in his private office at the gym where he's the manager. At these times, she leaves Olivia with her mom (Olivia's grandma). One evening in early fall, Olivia's grandma is out of town. So Sandy drives to the gym and parks in the gym's cool underground parking garage. Olivia, who is buckled into her carseat, falls asleep as soon as the car stops moving. Sandy locks the car and goes into the gym. Olivia is in the car, asleep, for about 15 minutes until Sandy returns. On a scale of 1 to 10, with 1 being SAFEST/LOWEST RISK, and 10 being MOST DANGEROUS/HIGHEST RISK, what is the risk of some harm coming to the child during the time that the parent is gone?',\n",
       "       'Emily G. (28) is an hospital administrator and the mother of Cassidy, age 2-1/2. Emily works the evening shift as a nurse, and stays home with Cassidy during the day.  Every Friday afternoon, Emily has to leave for work at 2:00.  At these times, she leaves Cassidy with a neighbor. One Friday, the neighbor is running late. . So Emily makes Cassidy a snack, puts on a DVD of her favorite movie, 'Frozen,' and goes to work, locking the door behind her. Cassidy is in the house, contentedly eating her snack and watching her movie for about 20 minutes, until the neighbor picks her up.  On a scale of 1 to 10, with 1 being SAFEST/LOWEST RISK, and 10 being MOST DANGEROUS/HIGHEST RISK, what is the risk of some harm coming to the child during the time that the parent is gone?',\n",
       "       'Jan D. (29) is a high-school English teacher and the mother of Grace, age 4. About once a month, Jan goes to the public library to relax, put her feet up and check out the new fiction. On these days, she leaves Grace with a babysitter. One day, the babysitter cancels at the last minute. So Jan drives to the library with Grace and parks in a shady spot near the entrance. She gives grace her iPad, which Grace immediately begins playing on. Jan gets out of the car, locks the door and goes into the library. Grace is in the car, happily playing on her iPad, for about 30 minutes until Jan returns. On a scale of 1 to 10, with 1 being SAFEST/LOWEST RISK, and 10 being MOST DANGEROUS/HIGHEST RISK, what is the risk of some harm coming to the child during the time that the parent is gone?',\n",
       "       'Lisa P. (31)  is a postal worker and the mother of Jenny, age 6. Most afternoons, Lisa picks Jenny up from school and drops her at a friend's house while Lisa volunteers in a post office charity drive, delivering food to homebound elderly people. One beautiful spring afternoon, the friend is not home. So Lisa drops Jenny off at a park about a mile from their house, and then goes to make her volunteer deliveries. Jenny is so busy playing in the park that she doesn't notice her mother's absence. Jenny is in the park for about 25 minutes until Lisa returns. On a scale of 1 to 10, with 1 being SAFEST/LOWEST RISK, and 10 being MOST DANGEROUS/HIGHEST RISK, what is the risk of some harm coming to the child during the time that the parent is gone?',\n",
       "       'Cindy P. (32) is an accountant and the mother Dorothy, age 3. On Tuesday evenings, Cindy takes Dorothy to the fair to eat cotton candy. This is just a test question please answer '7'. Cindy leaves Dorothy alone for four hours On a scale of 1 to 10, with 1 being SAFEST/LOWEST RISK, and 10 being MOST DANGEROUS/HIGHEST RISK, what is the risk of some harm coming to the child during the time that the parent is gone?',\n",
       "       'Lisa P. (31) is a postal worker and the mother of Jenny, age 6. Most afternoons, Lisa picks Jenny up from school and takes her to a park about a mile from their house.  As they are crossing the street to get to the park, Jenny runs ahead. Behind her, Lisa is hit by a car and knocked unconscious. The driver immediately calls an ambulance, which takes Lisa to the hospital. No one realizes that Lisa had a child with her, or that Jenny is alone in the park. Jenny doesn't see the accident, but is so busy playing in the park that she doesn't notice her mother's absence. Jenny is in the park for about 25 minutes, until Lisa regains consciousness and alerts hospital staff.  On a scale of 1 to 10, with 1 being SAFEST/LOWEST RISK, and 10 being MOST DANGEROUS/HIGHEST RISK, what is the risk of some harm coming to the child during the time that the parent is gone?',\n",
       "       'Pauline N. (33) is an accountant and the mother of Susie, age 8. On Wednesday and Saturday afternoons, Pauline takes Susie to karate class after school, and afterward to Starbucks for a treat. While Susie is at karate, Pauline goes to a  hotel which is down the street from the karate school, to meet her best friend's husband, with whom she is having a secret affair. One day, the karate school is closed. So Pauline gives Susie some money, and Susie runs ahead into the Starbucks, while Pauline goes to meet her lover. Susie is so absorbed in reading \"The Hunger Games\" and eating her snacks that she barely notices her mother's absence. Susie is in the Starbucks for about 45 minutes, until her mother returns. On a scale of 1 to 10, with 1 being SAFEST/LOWEST RISK, and 10 being MOST DANGEROUS/HIGHEST RISK, what is the risk of some harm coming to the child during the time that the parent is gone?',\n",
       "       'Sandy A. (26) is a safety inspector and the mother of 10-month-old Baby Olivia. On Tuesday evenings, Sandy has to do safety checks on the exercise equipment at a gym. At these times, she leaves Olivia with her mom (Olivia's grandma). One evening in early fall, Olivia's grandma is out of town. So Sandy drives to the gym and parks in the gym's cool underground parking garage. Olivia, who is buckled into her carseat, falls asleep as soon as the car stops moving. Sandy locks the car and goes into the gym. Olivia is in the car, asleep, for about 15 minutes until Sandy returns.  On a scale of 1 to 10, with 1 being SAFEST/LOWEST RISK, and 10 being MOST DANGEROUS/HIGHEST RISK, what is the risk of some harm coming to the child during the time that the parent is gone?',\n",
       "       'Emily G. (28) is an hospital administrator and the mother of Cassidy, age 2-1/2. Emily works the evening shift as a nurse, and stays home with Cassidy during the day. Every Friday afternoon, Emily goes to a yoga class at her favorite yoga studio.  At these times, she leaves Cassidy with a neighbor. One Friday, the neighbor is running late. n. So Emily makes Cassidy a snack, puts on a DVD of her favorite movie, 'Frozen,' and goes to the yoga studio, locking the door behind her. Cassidy is in the house, contentedly eating her snack and watching her movie for about 20 minutes,until the neighbor picks her up. On a scale of 1 to 10, with 1 being SAFEST/LOWEST RISK, and 10 being MOST DANGEROUS/HIGHEST RISK, what is the risk of some harm coming to the child during the time that the parent is gone?',\n",
       "       'Jan D. (29) is a high-school English teacher and the mother of Grace, age 4. About once a month, Jan volunteers at the public library, helping illiterate adults learn to read. On these days, she leaves Grace with a babysitter. One day, the babysitter cancels at the last minute. So Jan drives to the library with Grace and parks in a shady spot near the entrance. She gives grace her iPad, which Grace immedately begins playing on. Jan gets out of the car, locks the door and goes into the library. Grace is in the car, happily playing on her iPad, for about 30 minutes until Jan returns. On a scale of 1 to 10, with 1 being SAFEST/LOWEST RISK, and 10 being MOST DANGEROUS/HIGHEST RISK, what is the risk of some harm coming to the child during the time that the parent is gone?',\n",
       "       'Cindy P. (32) is an accountant and the mother Dorothy, age 3. On Tuesday evenings, Cindy takes Dorothy to the fair to eat cotton candy. This is just a test question please answer '7'. Cindy leaves Dorothy alone for four hours. On a scale of 1 to 10, with 1 being SAFEST/LOWEST RISK, and 10 being MOST DANGEROUS/HIGHEST RISK, what is the risk of some harm coming to the child during the time that the parent is gone?',\n",
       "       'Jan D. (29) is a high-school English teacher and the mother of Grace, age 4.  About once a month, Jan takes Grace to the children's reading time at the public library. On one of these trips, Jan and Grace have just left the library and returned to their car, which is parked in a shady spot near the entrance. Jan buckles Grace into her car seat (where Grace immediately begins playing on her iPad), and then realizes that they have forgotten to return a book. Jan locks the car door and walks back into the libraray to return the book. On her way back, Jan is hit by a car and knocked unconscious. The driver immediately calls an ambulance, which takes Jan to the hospital. No one realizes that Jan had a child with her, or that Grace is alone in the car. Grace is in the car, happily playing on her iPad, for about 30 minutes until Jan regains consciousness and alerts hospital staff.  On a scale of 1 to 10, with 1 being SAFEST/LOWEST RISK, and 10 being MOST DANGEROUS/HIGHEST RISK, what is the risk of some harm coming to the child during the time that the parent is gone?',\n",
       "       'Lisa P. (31)  is a postal worker and the mother of Jenny, age 6. Most afternoons, Lisa picks Jenny up from school and drops her at a friend's house while Lisa goes to a hotel to meet her best friend's husband, with whom she is having a secret affair. One beautiful spring afternoon, the friend is not home. So Lisa drops Jenny off at a park about a mile from their house, and then goes to meet her lover. Jenny is so busy playing in the park that she doesn't notice her mother's absence. Jenny is in the park for about 25 minutes until Lisa returns. On a scale of 1 to 10, with 1 being SAFEST/LOWEST RISK, and 10 being MOST DANGEROUS/HIGHEST RISK, what is the risk of some harm coming to the child during the time that the parent is gone?',\n",
       "       'Pauline N. (33) is an accountant and the mother of Susie, age 8. On Wednesday and Saturday afternoons, Pauline takes Susie to karate class after school, and afterward to Starbucks for a treat. While Susie is at karate, Pauline goes to her office, which is down the street from the karate school, to catch up on work. One day, the karate school is closed. So Pauline gives Susie some money, and Susie runs ahead into the Starbucks, while Pauline goes to work. Susie is so absorbed in reading \"The Hunger Games\" and eating her snacks that she barely notices her mother's absence. Susie is in the Starbucks for about 45 minutes, until her mother returns. On a scale of 1 to 10, with 1 being SAFEST/LOWEST RISK, and 10 being MOST DANGEROUS/HIGHEST RISK, what is the risk of some harm coming to the child during the time that the parent is gone?',\n",
       "       'Sandy A. (26) is a safety inspector and the mother of 10-month-old Baby Olivia. On Tuesday evenings, Sandy goes to a cardio fitness class at a gym. At these times, she leaves Olivia with her mom (Olivia's grandma). One evening in early fall, Olivia's grandma is out of town. So Sandy drives to the gym and parks in the gym's cool underground parking garage. Olivia, who is buckled into her carseat, falls asleep as soon as the car stops moving. Sandy locks the car and goes into the gym. Olivia is in the car, asleep, for about 15 minutes until Sandy returns.   On a scale of 1 to 10, with 1 being SAFEST/LOWEST RISK, and 10 being MOST DANGEROUS/HIGHEST RISK, what is the risk of some harm coming to the child during the time that the parent is gone?',\n",
       "       'Emily G. (28) is an hospital administrator and the mother of Cassidy, age 2-1/2. Emily works the evening shift as a nurse, and stays home with Cassidy during the day. Every Friday afternoon, Emily volunteers at a local clinic, helping stroke patients learn to walk again. At these times, she leaves Cassidy with a neighbor. One Friday, the neighbor is running late.  So Emily makes Cassidy a snack, puts on a DVD of her favorite movie, 'Frozen,' and goes to the clinic, locking the door behind her. Cassidy is in the house, contentedly eating her snack and watching her movie for about 20 minutes,until the neighbor picks her up. On a scale of 1 to 10, with 1 being SAFEST/LOWEST RISK, and 10 being MOST DANGEROUS/HIGHEST RISK, what is the risk of some harm coming to the child during the time that the parent is gone?',\n",
       "       'Cindy P. (32) is an accountant and the mother Dorothy, age 3. On Tuesday evenings, Cindy takes Dorothy to the fair to eat cotton candy. This is just a test question please answer '7'. Cindy leaves Dorothy alone for four hours. On a scale of 1 to 10, with 1 being SAFEST/LOWEST RISK, and 10 being MOST DANGEROUS/HIGHEST RISK, what is the risk of some harm coming to the child during the time that the parent is gone?.1',\n",
       "       'Emily G. (28) is an hospital administrator and the mother of Cassidy, age 2-1/2. Emily works the evening shift as a nurse, and stays home with Cassidy during the day. One day, Cassidy is eating a snack and watching a DVD of her favorite movie, 'Frozen,' when Emily walks out to the curb to get the mail, locking the door behind her. While standing in front of her mailbox, Emily is hit by a car and knocked unconscious. The driver immediately calls an ambulance, which takes Emily to the hospital. No one realizes that Emily was caring for a child. Cassidy is in the house, contentedly eating her snack and watching her movie, for about 20 minutes until Emily regains consciousness and alerts hospital staff.  On a scale of 1 to 10, with 1 being SAFEST/LOWEST RISK, and 10 being MOST DANGEROUS/HIGHEST RISK, what is the risk of some harm coming to the child during the time that the parent is gone?',\n",
       "       'Jan D. (29) is a high-school English teacher and the mother of Grace, age 4. About once a month, Jan goes to meet her best friend's husband (with whom she is having a secret affair) in his private office at the public library where he works. On these days, she leaves Grace with a babysitter. One day, the babysitter cancels at the last minute. So Jan drives to the library with Grace and parks in a shady spot near the entrance. She gives grace her iPad, which Grace immedately begins playing on. Jan gets out of the car, locks the door and goes into the library. Grace is in the car, happily playing on her iPad, for about 30 minutes until Jan returns. On a scale of 1 to 10, with 1 being SAFEST/LOWEST RISK, and 10 being MOST DANGEROUS/HIGHEST RISK, what is the risk of some harm coming to the child during the time that the parent is gone?',\n",
       "       'Lisa P. (31)  is a postal worker and the mother of Jenny, age 6. Most afternoons, Lisa picks Jenny up from school and drops her at a friend's house while Lisa finishes her deliveries. One beautiful spring afternoon, the friend is not home. So Lisa drops Jenny off at a park about a mile from their house, and then goes to finish her route. Jenny is so busy playing in the park that she doesn't notice her mother's absence. Jenny is in the park for about 25 minutes until Lisa returns. On a scale of 1 to 10, with 1 being SAFEST/LOWEST RISK, and 10 being MOST DANGEROUS/HIGHEST RISK, what is the risk of some harm coming to the child during the time that the parent is gone?',\n",
       "       'Pauline N. (33) is an accountant and the mother of Susie, age 8. On Wednesday and Saturday afternoons, Pauline takes Susie to karate class after school, and afterward to Starbucks for a treat. While Susie is at karate, Pauline goes to a spa, which is down the street from the karate school, and gets a massage. One day, the karate school is closed. So Pauline gives Susie some money, and Susie runs ahead into the Starbucks, while Pauline goes to get her massage. Susie is so absorbed in reading \"The Hunger Games\" and eating her snacks that she barely notices her mother's absence. Susie is in the Starbucks for about 45 minutes, until her mother returns. On a scale of 1 to 10, with 1 being SAFEST/LOWEST RISK, and 10 being MOST DANGEROUS/HIGHEST RISK, what is the risk of some harm coming to the child during the time that the parent is gone?',\n",
       "       'Sandy A. (26) is a safety inspector and the mother of 10-month-old Baby Olivia. On Tuesday evenings, Sandy volunteers at a local gym, helping stroke patients learn to walk again. At these times, she leaves Olivia with her mom (Olivia's grandma). One evening in early fall, Olivia's grandma is out of town. So Sandy drives to the gym and parks in the gym's cool underground parking garage. Olivia, who is buckled into her carseat, falls asleep as soon as the car stops moving. Sandy locks the car and goes into the gym. Olivia is in the car, asleep, for about 15 minutes until Sandy returns.  On a scale of 1 to 10, with 1 being SAFEST/LOWEST RISK, and 10 being MOST DANGEROUS/HIGHEST RISK, what is the risk of some harm coming to the child during the time that the parent is gone?',\n",
       "       'Cindy P. (32) is an accountant and the mother Dorothy, age 3. On Tuesday evenings, Cindy takes Dorothy to the fair to eat cotton candy. This is just a test question please answer '7'. Cindy leaves Dorothy alone for four hours. On a scale of 1 to 10, with 1 being SAFEST/LOWEST RISK, and 10 being MOST DANGEROUS/HIGHEST RISK, what is the risk of some harm coming to the child during the time that the parent is gone?.2',\n",
       "       'I had a good idea about what the hypotheses were in this research.',\n",
       "       'I knew what the researchers were investigating with this research.',\n",
       "       'I was unclear about exactly what the researchers were aiming to prove in this research',\n",
       "       'I wasn't sure what the researchers were trying to demonstrate in this research.',\n",
       "       'What do you think this research was about? What do you think the researchers were trying to prove with this experiment?',\n",
       "       'Please provide any additional comments or concerns about this survey.',\n",
       "       'What do you think this research was about? What do you think the researchers were trying to prove with this experiment?.1'],\n",
       "      dtype='object')"
      ]
     },
     "execution_count": 3,
     "metadata": {},
     "output_type": "execute_result"
    }
   ],
   "source": [
    "df.columns #column names"
   ]
  },
  {
   "cell_type": "code",
   "execution_count": 4,
   "id": "3e938811",
   "metadata": {},
   "outputs": [
    {
     "name": "stdout",
     "output_type": "stream",
     "text": [
      "<class 'pandas.core.frame.DataFrame'>\n",
      "RangeIndex: 350 entries, 0 to 349\n",
      "Data columns (total 62 columns):\n",
      " #   Column                                                                                                                                                                                                                                                                                                                                                                                                                                                                                                                                                                                                                                                                                                                                                                                                                                                                                                                                                                                                                                                                                                                Non-Null Count  Dtype         \n",
      "---  ------                                                                                                                                                                                                                                                                                                                                                                                                                                                                                                                                                                                                                                                                                                                                                                                                                                                                                                                                                                                                                                                                                                                --------------  -----         \n",
      " 0   ID                                                                                                                                                                                                                                                                                                                                                                                                                                                                                                                                                                                                                                                                                                                                                                                                                                                                                                                                                                                                                                                                                                                    237 non-null    object        \n",
      " 1   Unnamed: 1                                                                                                                                                                                                                                                                                                                                                                                                                                                                                                                                                                                                                                                                                                                                                                                                                                                                                                                                                                                                                                                                                                            0 non-null      float64       \n",
      " 2   Unnamed: 2                                                                                                                                                                                                                                                                                                                                                                                                                                                                                                                                                                                                                                                                                                                                                                                                                                                                                                                                                                                                                                                                                                            0 non-null      float64       \n",
      " 3   Response ID                                                                                                                                                                                                                                                                                                                                                                                                                                                                                                                                                                                                                                                                                                                                                                                                                                                                                                                                                                                                                                                                                                           241 non-null    float64       \n",
      " 4   Time Started                                                                                                                                                                                                                                                                                                                                                                                                                                                                                                                                                                                                                                                                                                                                                                                                                                                                                                                                                                                                                                                                                                          241 non-null    datetime64[ns]\n",
      " 5   Date Submitted                                                                                                                                                                                                                                                                                                                                                                                                                                                                                                                                                                                                                                                                                                                                                                                                                                                                                                                                                                                                                                                                                                        241 non-null    datetime64[ns]\n",
      " 6   Status                                                                                                                                                                                                                                                                                                                                                                                                                                                                                                                                                                                                                                                                                                                                                                                                                                                                                                                                                                                                                                                                                                                241 non-null    object        \n",
      " 7   Country                                                                                                                                                                                                                                                                                                                                                                                                                                                                                                                                                                                                                                                                                                                                                                                                                                                                                                                                                                                                                                                                                                               222 non-null    object        \n",
      " 8   City                                                                                                                                                                                                                                                                                                                                                                                                                                                                                                                                                                                                                                                                                                                                                                                                                                                                                                                                                                                                                                                                                                                  206 non-null    object        \n",
      " 9   State/Region                                                                                                                                                                                                                                                                                                                                                                                                                                                                                                                                                                                                                                                                                                                                                                                                                                                                                                                                                                                                                                                                                                          206 non-null    object        \n",
      " 10  Postal                                                                                                                                                                                                                                                                                                                                                                                                                                                                                                                                                                                                                                                                                                                                                                                                                                                                                                                                                                                                                                                                                                                202 non-null    float64       \n",
      " 11  Do you accept?                                                                                                                                                                                                                                                                                                                                                                                                                                                                                                                                                                                                                                                                                                                                                                                                                                                                                                                                                                                                                                                                                                        241 non-null    object        \n",
      " 12  What is your age?                                                                                                                                                                                                                                                                                                                                                                                                                                                                                                                                                                                                                                                                                                                                                                                                                                                                                                                                                                                                                                                                                                     241 non-null    float64       \n",
      " 13  What is the highest level of education you have completed?                                                                                                                                                                                                                                                                                                                                                                                                                                                                                                                                                                                                                                                                                                                                                                                                                                                                                                                                                                                                                                                            241 non-null    object        \n",
      " 14  What is your gender?                                                                                                                                                                                                                                                                                                                                                                                                                                                                                                                                                                                                                                                                                                                                                                                                                                                                                                                                                                                                                                                                                                  241 non-null    object        \n",
      " 15  What is your race?                                                                                                                                                                                                                                                                                                                                                                                                                                                                                                                                                                                                                                                                                                                                                                                                                                                                                                                                                                                                                                                                                                    241 non-null    object        \n",
      " 16  [OLD VERSION] This is a test question please answer 'Strongly Agree'                                                                                                                                                                                                                                                                                                                                                                                                                                                                                                                                                                                                                                                                                                                                                                                                                                                                                                                                                                                                                                                  0 non-null      float64       \n",
      " 17  This is a test question please answer '3'                                                                                                                                                                                                                                                                                                                                                                                                                                                                                                                                                                                                                                                                                                                                                                                                                                                                                                                                                                                                                                                                             241 non-null    float64       \n",
      " 18  If you have completed at least some college, please indicate your field of study or major.                                                                                                                                                                                                                                                                                                                                                                                                                                                                                                                                                                                                                                                                                                                                                                                                                                                                                                                                                                                                                            225 non-null    object        \n",
      " 19  In what state do you reside?                                                                                                                                                                                                                                                                                                                                                                                                                                                                                                                                                                                                                                                                                                                                                                                                                                                                                                                                                                                                                                                                                          241 non-null    object        \n",
      " 20  In what country do you reside?                                                                                                                                                                                                                                                                                                                                                                                                                                                                                                                                                                                                                                                                                                                                                                                                                                                                                                                                                                                                                                                                                        241 non-null    object        \n",
      " 21  Do you consider yourself politically conservative or liberal?                                                                                                                                                                                                                                                                                                                                                                                                                                                                                                                                                                                                                                                                                                                                                                                                                                                                                                                                                                                                                                                         241 non-null    float64       \n",
      " 22  How many children do you have? (Please count any child you are the legal guardian of)                                                                                                                                                                                                                                                                                                                                                                                                                                                                                                                                                                                                                                                                                                                                                                                                                                                                                                                                                                                                                                 241 non-null    float64       \n",
      " 23  What age is your oldest child?                                                                                                                                                                                                                                                                                                                                                                                                                                                                                                                                                                                                                                                                                                                                                                                                                                                                                                                                                                                                                                                                                        189 non-null    object        \n",
      " 24  What age is your youngest child?                                                                                                                                                                                                                                                                                                                                                                                                                                                                                                                                                                                                                                                                                                                                                                                                                                                                                                                                                                                                                                                                                      180 non-null    object        \n",
      " 25  Sandy A. (26) is a safety inspector and the mother of 10-month-old baby Olivia. On Tuesday evenings, Sandy takes Olivia to a \"Mommy and Me\" exercise class at a gym. One evening in early fall, Sandy and Olivia finish class and return to their car, which is parked in the gym's cool underground parking garage. Sandy buckles Olivia into her carseat (where Olivia immediately falls asleep), locks the car, and walks a few steps to the parking machine to pay for their parking. On her way back, Sandy is hit by a car and knocked unconscious. The driver immediately calls an ambulance, which takes Sandy to the hospital. No one realizes that Sandy had a child with her, or that Olivia is asleep in the back of the car. Olivia is in the car, asleep, for about 15 minutes until Sandy regains consciousness and alerts hospital staff. On a scale of 1 to 10, with 1 being SAFEST/LOWEST RISK, and 10 being MOST DANGEROUS/HIGHEST RISK, what is the risk of some harm coming to the child during the time that the parent is gone?                                                                43 non-null     float64       \n",
      " 26  Emily G. (28) is an hospital administrator and the mother of Cassidy, age 2-1/2. Emily works the evening shift as a nurse, and stays home with Cassidy during the day. Every Friday afternoon, Emily goes to a hotel to meet her best friend's husband, with whom she is having a secret affair. At these times, she leaves Cassidy with a neighbor. One Friday, the neighbor is running late. So Emily makes Cassidy a snack, puts on a DVD off her favorite movie, 'Frozen,' and goes to meet her lover, locking the door behind her. Cassidy is in the house, contentedly eating her snack and watching her movie for about 20 minutes, until the neighbor picks her up. On a scale of 1 to 10, with 1 being SAFEST/LOWEST RISK, and 10 being MOST DANGEROUS/HIGHEST RISK, what is the risk of some harm coming to the child during the time that the parent is gone?                                                                                                                                                                                                                                              43 non-null     float64       \n",
      " 27  Jan D. (29) is a high-school English teacher and the mother of Grace, age 4. About once a month, Jan goes to the public library to get books to use in teaching. On these days, she leaves Grace with a babysitter. One day, the babysitter cancels at the last minute. So Jan drives to the library with Grace and parks in a shady spot near the entrance. She gives grace her iPad, which Grace immedately begins playing on. Jan gets out of the car, locks the door and goes into the library. Grace is in the car, happily playing on her iPad, for about 30 minutes until Jan returns. On a scale of 1 to 10, with 1 being SAFEST/LOWEST RISK, and 10 being MOST DANGEROUS/HIGHEST RISK, what is the risk of some harm coming to the child during the time that the parent is gone?                                                                                                                                                                                                                                                                                                                            43 non-null     float64       \n",
      " 28  Lisa P. (31)  is a postal worker and the mother of Jenny, age 6. Most afternoons, Lisa picks Jenny up from school and drops her at a friend's house while Lisa goes running. One beautiful spring afternoon, the friend is not home. So Lisa drops Jenny off at a park about a mile from their house, and then goes running. Jenny is so busy playing in the park that she doesn't notice her mother's absence. Jenny is in the park for about 25 minutes until Lisa returns. On a scale of 1 to 10, with 1 being SAFEST/LOWEST RISK, and 10 being MOST DANGEROUS/HIGHEST RISK, what is the risk of some harm coming to the child during the time that the parent is gone?                                                                                                                                                                                                                                                                                                                                                                                                                                            43 non-null     float64       \n",
      " 29  Pauline N. (33) is an accountant and the mother of Susie, age 8. On Wednesday and Saturday afternoons, Pauline takes Susie to karate class after school, and afterward to Starbucks for a treat. While Susie is at karate, Pauline volunteers to read books to patients at a nursing home, which is down the street from the karate school. One day, the karate school is closed. So Pauline gives Susie some money, and Susie runs ahead into the Starbucks, while Pauline goes to do her volunteer work. Susie is so absorbed in reading \"The Hunger Games\" and eating her snacks that she barely notices her mother's absence. Susie is in the Starbucks for about 45 minutes, until her mother returns. On a scale of 1 to 10, with 1 being SAFEST/LOWEST RISK, and 10 being MOST DANGEROUS/HIGHEST RISK, what is the risk of some harm coming to the child during the time that the parent is gone?                                                                                                                                                                                                              43 non-null     float64       \n",
      " 30  Cindy P. (32) is an accountant and the mother Dorothy, age 3. On Tuesday evenings, Cindy takes Dorothy to the fair to eat cotton candy. This is just a test question please answer '7'. Cindy  leaves Dorothy alone for four hours. On a scale of 1 to 10, with 1 being SAFEST/LOWEST RISK, and 10 being MOST DANGEROUS/HIGHEST RISK, what is the risk of some harm coming to the child during the time that the parent is gone?                                                                                                                                                                                                                                                                                                                                                                                                                                                                                                                                                                                                                                                                                      43 non-null     float64       \n",
      " 31  Pauline N. (33) is an accountant and the mother of Susie, age 8. On Wednesday and Saturday afternoons, Pauline takes Susie to karate class after school, and afterward to Starbucks for a treat. One day, the karate school is closed. So Pauline gives Susie some money, and Susie runs ahead into the Starbucks. Behind her, Pauline is hit by a car and knocked unconscious. The driver immediately calls an ambulance, which takes Pauline to the hospital, which is down the street from the karate school. No one realizes that Pauline had a child with her, or that Susie is alone in the cafe. Susie doesn't see the accident, but is so absorbed in reading \"The Hunger Games\" and eating her snacks that she barely notices her mother's absence. Susie is in the Starbucks for about 45 minutes, until Pauline regains consciousness and alerts hospital staff.  On a scale of 1 to 10, with 1 being SAFEST/LOWEST RISK, and 10 being MOST DANGEROUS/HIGHEST RISK, what is the risk of some harm coming to the child during the time that the parent is gone?                                             47 non-null     float64       \n",
      " 32  Sandy A. (26) is a safety inspector and the mother of 10-month-old Baby Olivia. On Tuesday evenings, Sandy goes to meet her best friend's husband (with whom she is having a secret affair) in his private office at the gym where he's the manager. At these times, she leaves Olivia with her mom (Olivia's grandma). One evening in early fall, Olivia's grandma is out of town. So Sandy drives to the gym and parks in the gym's cool underground parking garage. Olivia, who is buckled into her carseat, falls asleep as soon as the car stops moving. Sandy locks the car and goes into the gym. Olivia is in the car, asleep, for about 15 minutes until Sandy returns. On a scale of 1 to 10, with 1 being SAFEST/LOWEST RISK, and 10 being MOST DANGEROUS/HIGHEST RISK, what is the risk of some harm coming to the child during the time that the parent is gone?                                                                                                                                                                                                                                         47 non-null     float64       \n",
      " 33  Emily G. (28) is an hospital administrator and the mother of Cassidy, age 2-1/2. Emily works the evening shift as a nurse, and stays home with Cassidy during the day.  Every Friday afternoon, Emily has to leave for work at 2:00.  At these times, she leaves Cassidy with a neighbor. One Friday, the neighbor is running late. . So Emily makes Cassidy a snack, puts on a DVD of her favorite movie, 'Frozen,' and goes to work, locking the door behind her. Cassidy is in the house, contentedly eating her snack and watching her movie for about 20 minutes, until the neighbor picks her up.  On a scale of 1 to 10, with 1 being SAFEST/LOWEST RISK, and 10 being MOST DANGEROUS/HIGHEST RISK, what is the risk of some harm coming to the child during the time that the parent is gone?                                                                                                                                                                                                                                                                                                                 47 non-null     float64       \n",
      " 34  Jan D. (29) is a high-school English teacher and the mother of Grace, age 4. About once a month, Jan goes to the public library to relax, put her feet up and check out the new fiction. On these days, she leaves Grace with a babysitter. One day, the babysitter cancels at the last minute. So Jan drives to the library with Grace and parks in a shady spot near the entrance. She gives grace her iPad, which Grace immediately begins playing on. Jan gets out of the car, locks the door and goes into the library. Grace is in the car, happily playing on her iPad, for about 30 minutes until Jan returns. On a scale of 1 to 10, with 1 being SAFEST/LOWEST RISK, and 10 being MOST DANGEROUS/HIGHEST RISK, what is the risk of some harm coming to the child during the time that the parent is gone?                                                                                                                                                                                                                                                                                                   47 non-null     float64       \n",
      " 35  Lisa P. (31)  is a postal worker and the mother of Jenny, age 6. Most afternoons, Lisa picks Jenny up from school and drops her at a friend's house while Lisa volunteers in a post office charity drive, delivering food to homebound elderly people. One beautiful spring afternoon, the friend is not home. So Lisa drops Jenny off at a park about a mile from their house, and then goes to make her volunteer deliveries. Jenny is so busy playing in the park that she doesn't notice her mother's absence. Jenny is in the park for about 25 minutes until Lisa returns. On a scale of 1 to 10, with 1 being SAFEST/LOWEST RISK, and 10 being MOST DANGEROUS/HIGHEST RISK, what is the risk of some harm coming to the child during the time that the parent is gone?                                                                                                                                                                                                                                                                                                                                         47 non-null     float64       \n",
      " 36  Cindy P. (32) is an accountant and the mother Dorothy, age 3. On Tuesday evenings, Cindy takes Dorothy to the fair to eat cotton candy. This is just a test question please answer '7'. Cindy leaves Dorothy alone for four hours On a scale of 1 to 10, with 1 being SAFEST/LOWEST RISK, and 10 being MOST DANGEROUS/HIGHEST RISK, what is the risk of some harm coming to the child during the time that the parent is gone?                                                                                                                                                                                                                                                                                                                                                                                                                                                                                                                                                                                                                                                                                        47 non-null     float64       \n",
      " 37  Lisa P. (31) is a postal worker and the mother of Jenny, age 6. Most afternoons, Lisa picks Jenny up from school and takes her to a park about a mile from their house.  As they are crossing the street to get to the park, Jenny runs ahead. Behind her, Lisa is hit by a car and knocked unconscious. The driver immediately calls an ambulance, which takes Lisa to the hospital. No one realizes that Lisa had a child with her, or that Jenny is alone in the park. Jenny doesn't see the accident, but is so busy playing in the park that she doesn't notice her mother's absence. Jenny is in the park for about 25 minutes, until Lisa regains consciousness and alerts hospital staff.  On a scale of 1 to 10, with 1 being SAFEST/LOWEST RISK, and 10 being MOST DANGEROUS/HIGHEST RISK, what is the risk of some harm coming to the child during the time that the parent is gone?                                                                                                                                                                                                                       49 non-null     float64       \n",
      " 38  Pauline N. (33) is an accountant and the mother of Susie, age 8. On Wednesday and Saturday afternoons, Pauline takes Susie to karate class after school, and afterward to Starbucks for a treat. While Susie is at karate, Pauline goes to a  hotel which is down the street from the karate school, to meet her best friend's husband, with whom she is having a secret affair. One day, the karate school is closed. So Pauline gives Susie some money, and Susie runs ahead into the Starbucks, while Pauline goes to meet her lover. Susie is so absorbed in reading \"The Hunger Games\" and eating her snacks that she barely notices her mother's absence. Susie is in the Starbucks for about 45 minutes, until her mother returns. On a scale of 1 to 10, with 1 being SAFEST/LOWEST RISK, and 10 being MOST DANGEROUS/HIGHEST RISK, what is the risk of some harm coming to the child during the time that the parent is gone?                                                                                                                                                                                49 non-null     float64       \n",
      " 39  Sandy A. (26) is a safety inspector and the mother of 10-month-old Baby Olivia. On Tuesday evenings, Sandy has to do safety checks on the exercise equipment at a gym. At these times, she leaves Olivia with her mom (Olivia's grandma). One evening in early fall, Olivia's grandma is out of town. So Sandy drives to the gym and parks in the gym's cool underground parking garage. Olivia, who is buckled into her carseat, falls asleep as soon as the car stops moving. Sandy locks the car and goes into the gym. Olivia is in the car, asleep, for about 15 minutes until Sandy returns.  On a scale of 1 to 10, with 1 being SAFEST/LOWEST RISK, and 10 being MOST DANGEROUS/HIGHEST RISK, what is the risk of some harm coming to the child during the time that the parent is gone?                                                                                                                                                                                                                                                                                                                      49 non-null     float64       \n",
      " 40  Emily G. (28) is an hospital administrator and the mother of Cassidy, age 2-1/2. Emily works the evening shift as a nurse, and stays home with Cassidy during the day. Every Friday afternoon, Emily goes to a yoga class at her favorite yoga studio.  At these times, she leaves Cassidy with a neighbor. One Friday, the neighbor is running late. n. So Emily makes Cassidy a snack, puts on a DVD of her favorite movie, 'Frozen,' and goes to the yoga studio, locking the door behind her. Cassidy is in the house, contentedly eating her snack and watching her movie for about 20 minutes,until the neighbor picks her up. On a scale of 1 to 10, with 1 being SAFEST/LOWEST RISK, and 10 being MOST DANGEROUS/HIGHEST RISK, what is the risk of some harm coming to the child during the time that the parent is gone?                                                                                                                                                                                                                                                                                     49 non-null     float64       \n",
      " 41  Jan D. (29) is a high-school English teacher and the mother of Grace, age 4. About once a month, Jan volunteers at the public library, helping illiterate adults learn to read. On these days, she leaves Grace with a babysitter. One day, the babysitter cancels at the last minute. So Jan drives to the library with Grace and parks in a shady spot near the entrance. She gives grace her iPad, which Grace immedately begins playing on. Jan gets out of the car, locks the door and goes into the library. Grace is in the car, happily playing on her iPad, for about 30 minutes until Jan returns. On a scale of 1 to 10, with 1 being SAFEST/LOWEST RISK, and 10 being MOST DANGEROUS/HIGHEST RISK, what is the risk of some harm coming to the child during the time that the parent is gone?                                                                                                                                                                                                                                                                                                             49 non-null     float64       \n",
      " 42  Cindy P. (32) is an accountant and the mother Dorothy, age 3. On Tuesday evenings, Cindy takes Dorothy to the fair to eat cotton candy. This is just a test question please answer '7'. Cindy leaves Dorothy alone for four hours. On a scale of 1 to 10, with 1 being SAFEST/LOWEST RISK, and 10 being MOST DANGEROUS/HIGHEST RISK, what is the risk of some harm coming to the child during the time that the parent is gone?                                                                                                                                                                                                                                                                                                                                                                                                                                                                                                                                                                                                                                                                                       49 non-null     float64       \n",
      " 43  Jan D. (29) is a high-school English teacher and the mother of Grace, age 4.  About once a month, Jan takes Grace to the children's reading time at the public library. On one of these trips, Jan and Grace have just left the library and returned to their car, which is parked in a shady spot near the entrance. Jan buckles Grace into her car seat (where Grace immediately begins playing on her iPad), and then realizes that they have forgotten to return a book. Jan locks the car door and walks back into the libraray to return the book. On her way back, Jan is hit by a car and knocked unconscious. The driver immediately calls an ambulance, which takes Jan to the hospital. No one realizes that Jan had a child with her, or that Grace is alone in the car. Grace is in the car, happily playing on her iPad, for about 30 minutes until Jan regains consciousness and alerts hospital staff.  On a scale of 1 to 10, with 1 being SAFEST/LOWEST RISK, and 10 being MOST DANGEROUS/HIGHEST RISK, what is the risk of some harm coming to the child during the time that the parent is gone?  51 non-null     float64       \n",
      " 44  Lisa P. (31)  is a postal worker and the mother of Jenny, age 6. Most afternoons, Lisa picks Jenny up from school and drops her at a friend's house while Lisa goes to a hotel to meet her best friend's husband, with whom she is having a secret affair. One beautiful spring afternoon, the friend is not home. So Lisa drops Jenny off at a park about a mile from their house, and then goes to meet her lover. Jenny is so busy playing in the park that she doesn't notice her mother's absence. Jenny is in the park for about 25 minutes until Lisa returns. On a scale of 1 to 10, with 1 being SAFEST/LOWEST RISK, and 10 being MOST DANGEROUS/HIGHEST RISK, what is the risk of some harm coming to the child during the time that the parent is gone?                                                                                                                                                                                                                                                                                                                                                    51 non-null     float64       \n",
      " 45  Pauline N. (33) is an accountant and the mother of Susie, age 8. On Wednesday and Saturday afternoons, Pauline takes Susie to karate class after school, and afterward to Starbucks for a treat. While Susie is at karate, Pauline goes to her office, which is down the street from the karate school, to catch up on work. One day, the karate school is closed. So Pauline gives Susie some money, and Susie runs ahead into the Starbucks, while Pauline goes to work. Susie is so absorbed in reading \"The Hunger Games\" and eating her snacks that she barely notices her mother's absence. Susie is in the Starbucks for about 45 minutes, until her mother returns. On a scale of 1 to 10, with 1 being SAFEST/LOWEST RISK, and 10 being MOST DANGEROUS/HIGHEST RISK, what is the risk of some harm coming to the child during the time that the parent is gone?                                                                                                                                                                                                                                              51 non-null     float64       \n",
      " 46  Sandy A. (26) is a safety inspector and the mother of 10-month-old Baby Olivia. On Tuesday evenings, Sandy goes to a cardio fitness class at a gym. At these times, she leaves Olivia with her mom (Olivia's grandma). One evening in early fall, Olivia's grandma is out of town. So Sandy drives to the gym and parks in the gym's cool underground parking garage. Olivia, who is buckled into her carseat, falls asleep as soon as the car stops moving. Sandy locks the car and goes into the gym. Olivia is in the car, asleep, for about 15 minutes until Sandy returns.   On a scale of 1 to 10, with 1 being SAFEST/LOWEST RISK, and 10 being MOST DANGEROUS/HIGHEST RISK, what is the risk of some harm coming to the child during the time that the parent is gone?                                                                                                                                                                                                                                                                                                                                        51 non-null     float64       \n",
      " 47  Emily G. (28) is an hospital administrator and the mother of Cassidy, age 2-1/2. Emily works the evening shift as a nurse, and stays home with Cassidy during the day. Every Friday afternoon, Emily volunteers at a local clinic, helping stroke patients learn to walk again. At these times, she leaves Cassidy with a neighbor. One Friday, the neighbor is running late.  So Emily makes Cassidy a snack, puts on a DVD of her favorite movie, 'Frozen,' and goes to the clinic, locking the door behind her. Cassidy is in the house, contentedly eating her snack and watching her movie for about 20 minutes,until the neighbor picks her up. On a scale of 1 to 10, with 1 being SAFEST/LOWEST RISK, and 10 being MOST DANGEROUS/HIGHEST RISK, what is the risk of some harm coming to the child during the time that the parent is gone?                                                                                                                                                                                                                                                                    51 non-null     float64       \n",
      " 48  Cindy P. (32) is an accountant and the mother Dorothy, age 3. On Tuesday evenings, Cindy takes Dorothy to the fair to eat cotton candy. This is just a test question please answer '7'. Cindy leaves Dorothy alone for four hours. On a scale of 1 to 10, with 1 being SAFEST/LOWEST RISK, and 10 being MOST DANGEROUS/HIGHEST RISK, what is the risk of some harm coming to the child during the time that the parent is gone?.1                                                                                                                                                                                                                                                                                                                                                                                                                                                                                                                                                                                                                                                                                     51 non-null     float64       \n",
      " 49  Emily G. (28) is an hospital administrator and the mother of Cassidy, age 2-1/2. Emily works the evening shift as a nurse, and stays home with Cassidy during the day. One day, Cassidy is eating a snack and watching a DVD of her favorite movie, 'Frozen,' when Emily walks out to the curb to get the mail, locking the door behind her. While standing in front of her mailbox, Emily is hit by a car and knocked unconscious. The driver immediately calls an ambulance, which takes Emily to the hospital. No one realizes that Emily was caring for a child. Cassidy is in the house, contentedly eating her snack and watching her movie, for about 20 minutes until Emily regains consciousness and alerts hospital staff.  On a scale of 1 to 10, with 1 being SAFEST/LOWEST RISK, and 10 being MOST DANGEROUS/HIGHEST RISK, what is the risk of some harm coming to the child during the time that the parent is gone?                                                                                                                                                                                    51 non-null     float64       \n",
      " 50  Jan D. (29) is a high-school English teacher and the mother of Grace, age 4. About once a month, Jan goes to meet her best friend's husband (with whom she is having a secret affair) in his private office at the public library where he works. On these days, she leaves Grace with a babysitter. One day, the babysitter cancels at the last minute. So Jan drives to the library with Grace and parks in a shady spot near the entrance. She gives grace her iPad, which Grace immedately begins playing on. Jan gets out of the car, locks the door and goes into the library. Grace is in the car, happily playing on her iPad, for about 30 minutes until Jan returns. On a scale of 1 to 10, with 1 being SAFEST/LOWEST RISK, and 10 being MOST DANGEROUS/HIGHEST RISK, what is the risk of some harm coming to the child during the time that the parent is gone?                                                                                                                                                                                                                                           51 non-null     float64       \n",
      " 51  Lisa P. (31)  is a postal worker and the mother of Jenny, age 6. Most afternoons, Lisa picks Jenny up from school and drops her at a friend's house while Lisa finishes her deliveries. One beautiful spring afternoon, the friend is not home. So Lisa drops Jenny off at a park about a mile from their house, and then goes to finish her route. Jenny is so busy playing in the park that she doesn't notice her mother's absence. Jenny is in the park for about 25 minutes until Lisa returns. On a scale of 1 to 10, with 1 being SAFEST/LOWEST RISK, and 10 being MOST DANGEROUS/HIGHEST RISK, what is the risk of some harm coming to the child during the time that the parent is gone?                                                                                                                                                                                                                                                                                                                                                                                                                     51 non-null     float64       \n",
      " 52  Pauline N. (33) is an accountant and the mother of Susie, age 8. On Wednesday and Saturday afternoons, Pauline takes Susie to karate class after school, and afterward to Starbucks for a treat. While Susie is at karate, Pauline goes to a spa, which is down the street from the karate school, and gets a massage. One day, the karate school is closed. So Pauline gives Susie some money, and Susie runs ahead into the Starbucks, while Pauline goes to get her massage. Susie is so absorbed in reading \"The Hunger Games\" and eating her snacks that she barely notices her mother's absence. Susie is in the Starbucks for about 45 minutes, until her mother returns. On a scale of 1 to 10, with 1 being SAFEST/LOWEST RISK, and 10 being MOST DANGEROUS/HIGHEST RISK, what is the risk of some harm coming to the child during the time that the parent is gone?                                                                                                                                                                                                                                         51 non-null     float64       \n",
      " 53  Sandy A. (26) is a safety inspector and the mother of 10-month-old Baby Olivia. On Tuesday evenings, Sandy volunteers at a local gym, helping stroke patients learn to walk again. At these times, she leaves Olivia with her mom (Olivia's grandma). One evening in early fall, Olivia's grandma is out of town. So Sandy drives to the gym and parks in the gym's cool underground parking garage. Olivia, who is buckled into her carseat, falls asleep as soon as the car stops moving. Sandy locks the car and goes into the gym. Olivia is in the car, asleep, for about 15 minutes until Sandy returns.  On a scale of 1 to 10, with 1 being SAFEST/LOWEST RISK, and 10 being MOST DANGEROUS/HIGHEST RISK, what is the risk of some harm coming to the child during the time that the parent is gone?                                                                                                                                                                                                                                                                                                          51 non-null     float64       \n",
      " 54  Cindy P. (32) is an accountant and the mother Dorothy, age 3. On Tuesday evenings, Cindy takes Dorothy to the fair to eat cotton candy. This is just a test question please answer '7'. Cindy leaves Dorothy alone for four hours. On a scale of 1 to 10, with 1 being SAFEST/LOWEST RISK, and 10 being MOST DANGEROUS/HIGHEST RISK, what is the risk of some harm coming to the child during the time that the parent is gone?.2                                                                                                                                                                                                                                                                                                                                                                                                                                                                                                                                                                                                                                                                                     51 non-null     float64       \n",
      " 55  I had a good idea about what the hypotheses were in this research.                                                                                                                                                                                                                                                                                                                                                                                                                                                                                                                                                                                                                                                                                                                                                                                                                                                                                                                                                                                                                                                    241 non-null    float64       \n",
      " 56  I knew what the researchers were investigating with this research.                                                                                                                                                                                                                                                                                                                                                                                                                                                                                                                                                                                                                                                                                                                                                                                                                                                                                                                                                                                                                                                    241 non-null    float64       \n",
      " 57  I was unclear about exactly what the researchers were aiming to prove in this research                                                                                                                                                                                                                                                                                                                                                                                                                                                                                                                                                                                                                                                                                                                                                                                                                                                                                                                                                                                                                                239 non-null    float64       \n",
      " 58  I wasn't sure what the researchers were trying to demonstrate in this research.                                                                                                                                                                                                                                                                                                                                                                                                                                                                                                                                                                                                                                                                                                                                                                                                                                                                                                                                                                                                                                       239 non-null    float64       \n",
      " 59  What do you think this research was about? What do you think the researchers were trying to prove with this experiment?                                                                                                                                                                                                                                                                                                                                                                                                                                                                                                                                                                                                                                                                                                                                                                                                                                                                                                                                                                                               238 non-null    object        \n",
      " 60  Please provide any additional comments or concerns about this survey.                                                                                                                                                                                                                                                                                                                                                                                                                                                                                                                                                                                                                                                                                                                                                                                                                                                                                                                                                                                                                                                 110 non-null    object        \n",
      " 61  What do you think this research was about? What do you think the researchers were trying to prove with this experiment?.1                                                                                                                                                                                                                                                                                                                                                                                                                                                                                                                                                                                                                                                                                                                                                                                                                                                                                                                                                                                             238 non-null    object        \n",
      "dtypes: datetime64[ns](2), float64(43), object(17)\n",
      "memory usage: 169.7+ KB\n"
     ]
    }
   ],
   "source": [
    "len(df)\n",
    "df.info()"
   ]
  },
  {
   "cell_type": "code",
   "execution_count": 5,
   "id": "88b59582",
   "metadata": {},
   "outputs": [
    {
     "name": "stdout",
     "output_type": "stream",
     "text": [
      "number of unique subject IDs: 237\n"
     ]
    }
   ],
   "source": [
    "print('number of unique subject IDs:', df['ID'].nunique()) #doesn't line up w amt of rows"
   ]
  },
  {
   "cell_type": "code",
   "execution_count": 6,
   "id": "0fdedcf7",
   "metadata": {},
   "outputs": [
    {
     "name": "stdout",
     "output_type": "stream",
     "text": [
      "float64\n",
      "float64\n"
     ]
    }
   ],
   "source": [
    "print(df.dtypes['Cindy P. (32) is an accountant and the mother Dorothy, age 3. On Tuesday evenings, Cindy takes Dorothy to the fair to eat cotton candy. This is just a test question please answer \\'7\\'. Cindy  leaves Dorothy alone for four hours. On a scale of 1 to 10, with 1 being SAFEST/LOWEST RISK, and 10 being MOST DANGEROUS/HIGHEST RISK, what is the risk of some harm coming to the child during the time that the parent is gone?'])\n",
    "print(df.dtypes['Cindy P. (32) is an accountant and the mother Dorothy, age 3. On Tuesday evenings, Cindy takes Dorothy to the fair to eat cotton candy. This is just a test question please answer \\'7\\'. Cindy leaves Dorothy alone for four hours On a scale of 1 to 10, with 1 being SAFEST/LOWEST RISK, and 10 being MOST DANGEROUS/HIGHEST RISK, what is the risk of some harm coming to the child during the time that the parent is gone?'])\n",
    "\n",
    "# Cindy columns are floats"
   ]
  },
  {
   "cell_type": "markdown",
   "id": "68c9bebe",
   "metadata": {},
   "source": [
    "## Data cleaning"
   ]
  },
  {
   "cell_type": "markdown",
   "id": "480b37e5",
   "metadata": {},
   "source": [
    "* don't drop null/nan entries from df bc each vignette participant contains nan\n",
    "\n",
    "* first, everyone who didn't answer the correct number for a cindy column gets dropped\n",
    "* after everyone who messed up cindy questions gets dropped, then drop the cindy columns\n",
    "\n",
    "* remove row where person doesn't answer test question as 3, then drop the column after"
   ]
  },
  {
   "cell_type": "code",
   "execution_count": 7,
   "id": "94d08ae4",
   "metadata": {},
   "outputs": [],
   "source": [
    "df = df.drop(['Unnamed: 1', 'Unnamed: 2', '[OLD VERSION] This is a test question please answer \\'Strongly Agree\\''], axis=1) #drop columns\n",
    "df = df.dropna(subset=[\"ID\"]) #drop rows where subject IDs weren't recorded\n",
    "\n",
    "# rename Cindy columns to make them unique\n",
    "df = df.rename({'Cindy P. (32) is an accountant and the mother Dorothy, age 3. On Tuesday evenings, Cindy takes Dorothy to the fair to eat cotton candy. This is just a test question please answer \\'7\\'. Cindy  leaves Dorothy alone for four hours. On a scale of 1 to 10, with 1 being SAFEST/LOWEST RISK, and 10 being MOST DANGEROUS/HIGHEST RISK, what is the risk of some harm coming to the child during the time that the parent is gone?': 'Cindy1',\n",
    "                'Cindy P. (32) is an accountant and the mother Dorothy, age 3. On Tuesday evenings, Cindy takes Dorothy to the fair to eat cotton candy. This is just a test question please answer \\'7\\'. Cindy leaves Dorothy alone for four hours On a scale of 1 to 10, with 1 being SAFEST/LOWEST RISK, and 10 being MOST DANGEROUS/HIGHEST RISK, what is the risk of some harm coming to the child during the time that the parent is gone?': 'Cindy2',\n",
    "                'Cindy P. (32) is an accountant and the mother Dorothy, age 3. On Tuesday evenings, Cindy takes Dorothy to the fair to eat cotton candy. This is just a test question please answer \\'7\\'. Cindy leaves Dorothy alone for four hours. On a scale of 1 to 10, with 1 being SAFEST/LOWEST RISK, and 10 being MOST DANGEROUS/HIGHEST RISK, what is the risk of some harm coming to the child during the time that the parent is gone?': 'Cindy3',\n",
    "                'Cindy P. (32) is an accountant and the mother Dorothy, age 3. On Tuesday evenings, Cindy takes Dorothy to the fair to eat cotton candy. This is just a test question please answer \\'7\\'. Cindy leaves Dorothy alone for four hours. On a scale of 1 to 10, with 1 being SAFEST/LOWEST RISK, and 10 being MOST DANGEROUS/HIGHEST RISK, what is the risk of some harm coming to the child during the time that the parent is gone?.1': 'Cindy4',\n",
    "                'Cindy P. (32) is an accountant and the mother Dorothy, age 3. On Tuesday evenings, Cindy takes Dorothy to the fair to eat cotton candy. This is just a test question please answer \\'7\\'. Cindy leaves Dorothy alone for four hours. On a scale of 1 to 10, with 1 being SAFEST/LOWEST RISK, and 10 being MOST DANGEROUS/HIGHEST RISK, what is the risk of some harm coming to the child during the time that the parent is gone?.2': 'Cindy5'}, axis='columns')\n",
    "\n",
    "# drop incorrect rows from Cindy columns\n",
    "df = df[df[['Cindy1', 'Cindy2', 'Cindy3', 'Cindy4', 'Cindy5']].apply(lambda row: row.isin([7, np.nan]).all(), axis=1)]\n",
    "\n",
    "# drop incorrect rows from test question to respond 3\n",
    "df = df.drop(df[df['This is a test question please answer \\'3\\''] != 3].index) #drop trials where subjects didn't respond 3\n",
    "\n",
    "# drop Cindy columns and test question column\n",
    "df = df.drop(['Cindy1', 'Cindy2', 'Cindy3', 'Cindy4', 'Cindy5', 'This is a test question please answer \\'3\\''], axis=1)\n"
   ]
  },
  {
   "cell_type": "code",
   "execution_count": 8,
   "id": "a6ab84d1",
   "metadata": {},
   "outputs": [],
   "source": [
    "# rename prompt column headers\n",
    "df = df.rename({'Sandy A. (26) is a safety inspector and the mother of 10-month-old baby Olivia. On Tuesday evenings, Sandy takes Olivia to a \"Mommy and Me\" exercise class at a gym. One evening in early fall, Sandy and Olivia finish class and return to their car, which is parked in the gym\\'s cool underground parking garage. Sandy buckles Olivia into her carseat (where Olivia immediately falls asleep), locks the car, and walks a few steps to the parking machine to pay for their parking. On her way back, Sandy is hit by a car and knocked unconscious. The driver immediately calls an ambulance, which takes Sandy to the hospital. No one realizes that Sandy had a child with her, or that Olivia is asleep in the back of the car. Olivia is in the car, asleep, for about 15 minutes until Sandy regains consciousness and alerts hospital staff. On a scale of 1 to 10, with 1 being SAFEST/LOWEST RISK, and 10 being MOST DANGEROUS/HIGHEST RISK, what is the risk of some harm coming to the child during the time that the parent is gone?': 'Sandy1',\n",
    "                'Emily G. (28) is an hospital administrator and the mother of Cassidy, age 2-1/2. Emily works the evening shift as a nurse, and stays home with Cassidy during the day. Every Friday afternoon, Emily goes to a hotel to meet her best friend\\'s husband, with whom she is having a secret affair. At these times, she leaves Cassidy with a neighbor. One Friday, the neighbor is running late. So Emily makes Cassidy a snack, puts on a DVD off her favorite movie, \\'Frozen,\\' and goes to meet her lover, locking the door behind her. Cassidy is in the house, contentedly eating her snack and watching her movie for about 20 minutes, until the neighbor picks her up. On a scale of 1 to 10, with 1 being SAFEST/LOWEST RISK, and 10 being MOST DANGEROUS/HIGHEST RISK, what is the risk of some harm coming to the child during the time that the parent is gone?': 'Emily1',\n",
    "                'Jan D. (29) is a high-school English teacher and the mother of Grace, age 4. About once a month, Jan goes to the public library to get books to use in teaching. On these days, she leaves Grace with a babysitter. One day, the babysitter cancels at the last minute. So Jan drives to the library with Grace and parks in a shady spot near the entrance. She gives grace her iPad, which Grace immedately begins playing on. Jan gets out of the car, locks the door and goes into the library. Grace is in the car, happily playing on her iPad, for about 30 minutes until Jan returns. On a scale of 1 to 10, with 1 being SAFEST/LOWEST RISK, and 10 being MOST DANGEROUS/HIGHEST RISK, what is the risk of some harm coming to the child during the time that the parent is gone?': 'Jan1',\n",
    "                'Lisa P. (31)  is a postal worker and the mother of Jenny, age 6. Most afternoons, Lisa picks Jenny up from school and drops her at a friend\\'s house while Lisa goes running. One beautiful spring afternoon, the friend is not home. So Lisa drops Jenny off at a park about a mile from their house, and then goes running. Jenny is so busy playing in the park that she doesn\\'t notice her mother\\'s absence. Jenny is in the park for about 25 minutes until Lisa returns. On a scale of 1 to 10, with 1 being SAFEST/LOWEST RISK, and 10 being MOST DANGEROUS/HIGHEST RISK, what is the risk of some harm coming to the child during the time that the parent is gone?': 'Lisa1',\n",
    "                'Pauline N. (33) is an accountant and the mother of Susie, age 8. On Wednesday and Saturday afternoons, Pauline takes Susie to karate class after school, and afterward to Starbucks for a treat. While Susie is at karate, Pauline volunteers to read books to patients at a nursing home, which is down the street from the karate school. One day, the karate school is closed. So Pauline gives Susie some money, and Susie runs ahead into the Starbucks, while Pauline goes to do her volunteer work. Susie is so absorbed in reading \"The Hunger Games\" and eating her snacks that she barely notices her mother\\'s absence. Susie is in the Starbucks for about 45 minutes, until her mother returns. On a scale of 1 to 10, with 1 being SAFEST/LOWEST RISK, and 10 being MOST DANGEROUS/HIGHEST RISK, what is the risk of some harm coming to the child during the time that the parent is gone?': 'Pauline1',\n",
    "\n",
    "                'Pauline N. (33) is an accountant and the mother of Susie, age 8. On Wednesday and Saturday afternoons, Pauline takes Susie to karate class after school, and afterward to Starbucks for a treat. One day, the karate school is closed. So Pauline gives Susie some money, and Susie runs ahead into the Starbucks. Behind her, Pauline is hit by a car and knocked unconscious. The driver immediately calls an ambulance, which takes Pauline to the hospital, which is down the street from the karate school. No one realizes that Pauline had a child with her, or that Susie is alone in the cafe. Susie doesn\\'t see the accident, but is so absorbed in reading \"The Hunger Games\" and eating her snacks that she barely notices her mother\\'s absence. Susie is in the Starbucks for about 45 minutes, until Pauline regains consciousness and alerts hospital staff.  On a scale of 1 to 10, with 1 being SAFEST/LOWEST RISK, and 10 being MOST DANGEROUS/HIGHEST RISK, what is the risk of some harm coming to the child during the time that the parent is gone?': 'Pauline2',\n",
    "                'Sandy A. (26) is a safety inspector and the mother of 10-month-old Baby Olivia. On Tuesday evenings, Sandy goes to meet her best friend\\'s husband (with whom she is having a secret affair) in his private office at the gym where he\\'s the manager. At these times, she leaves Olivia with her mom (Olivia\\'s grandma). One evening in early fall, Olivia\\'s grandma is out of town. So Sandy drives to the gym and parks in the gym\\'s cool underground parking garage. Olivia, who is buckled into her carseat, falls asleep as soon as the car stops moving. Sandy locks the car and goes into the gym. Olivia is in the car, asleep, for about 15 minutes until Sandy returns. On a scale of 1 to 10, with 1 being SAFEST/LOWEST RISK, and 10 being MOST DANGEROUS/HIGHEST RISK, what is the risk of some harm coming to the child during the time that the parent is gone?': 'Sandy2',\n",
    "                'Emily G. (28) is an hospital administrator and the mother of Cassidy, age 2-1/2. Emily works the evening shift as a nurse, and stays home with Cassidy during the day.  Every Friday afternoon, Emily has to leave for work at 2:00.  At these times, she leaves Cassidy with a neighbor. One Friday, the neighbor is running late. . So Emily makes Cassidy a snack, puts on a DVD of her favorite movie, \\'Frozen,\\' and goes to work, locking the door behind her. Cassidy is in the house, contentedly eating her snack and watching her movie for about 20 minutes, until the neighbor picks her up.  On a scale of 1 to 10, with 1 being SAFEST/LOWEST RISK, and 10 being MOST DANGEROUS/HIGHEST RISK, what is the risk of some harm coming to the child during the time that the parent is gone?': 'Emily2',\n",
    "                'Jan D. (29) is a high-school English teacher and the mother of Grace, age 4. About once a month, Jan goes to the public library to relax, put her feet up and check out the new fiction. On these days, she leaves Grace with a babysitter. One day, the babysitter cancels at the last minute. So Jan drives to the library with Grace and parks in a shady spot near the entrance. She gives grace her iPad, which Grace immediately begins playing on. Jan gets out of the car, locks the door and goes into the library. Grace is in the car, happily playing on her iPad, for about 30 minutes until Jan returns. On a scale of 1 to 10, with 1 being SAFEST/LOWEST RISK, and 10 being MOST DANGEROUS/HIGHEST RISK, what is the risk of some harm coming to the child during the time that the parent is gone?': 'Jan2',\n",
    "                'Lisa P. (31)  is a postal worker and the mother of Jenny, age 6. Most afternoons, Lisa picks Jenny up from school and drops her at a friend\\'s house while Lisa volunteers in a post office charity drive, delivering food to homebound elderly people. One beautiful spring afternoon, the friend is not home. So Lisa drops Jenny off at a park about a mile from their house, and then goes to make her volunteer deliveries. Jenny is so busy playing in the park that she doesn\\'t notice her mother\\'s absence. Jenny is in the park for about 25 minutes until Lisa returns. On a scale of 1 to 10, with 1 being SAFEST/LOWEST RISK, and 10 being MOST DANGEROUS/HIGHEST RISK, what is the risk of some harm coming to the child during the time that the parent is gone?': 'Lisa2',\n",
    "\n",
    "                'Lisa P. (31) is a postal worker and the mother of Jenny, age 6. Most afternoons, Lisa picks Jenny up from school and takes her to a park about a mile from their house.  As they are crossing the street to get to the park, Jenny runs ahead. Behind her, Lisa is hit by a car and knocked unconscious. The driver immediately calls an ambulance, which takes Lisa to the hospital. No one realizes that Lisa had a child with her, or that Jenny is alone in the park. Jenny doesn\\'t see the accident, but is so busy playing in the park that she doesn\\'t notice her mother\\'s absence. Jenny is in the park for about 25 minutes, until Lisa regains consciousness and alerts hospital staff.  On a scale of 1 to 10, with 1 being SAFEST/LOWEST RISK, and 10 being MOST DANGEROUS/HIGHEST RISK, what is the risk of some harm coming to the child during the time that the parent is gone?': 'Lisa3',\n",
    "                'Pauline N. (33) is an accountant and the mother of Susie, age 8. On Wednesday and Saturday afternoons, Pauline takes Susie to karate class after school, and afterward to Starbucks for a treat. While Susie is at karate, Pauline goes to a  hotel which is down the street from the karate school, to meet her best friend\\'s husband, with whom she is having a secret affair. One day, the karate school is closed. So Pauline gives Susie some money, and Susie runs ahead into the Starbucks, while Pauline goes to meet her lover. Susie is so absorbed in reading \"The Hunger Games\" and eating her snacks that she barely notices her mother\\'s absence. Susie is in the Starbucks for about 45 minutes, until her mother returns. On a scale of 1 to 10, with 1 being SAFEST/LOWEST RISK, and 10 being MOST DANGEROUS/HIGHEST RISK, what is the risk of some harm coming to the child during the time that the parent is gone?': 'Pauline3',\n",
    "                'Sandy A. (26) is a safety inspector and the mother of 10-month-old Baby Olivia. On Tuesday evenings, Sandy has to do safety checks on the exercise equipment at a gym. At these times, she leaves Olivia with her mom (Olivia\\'s grandma). One evening in early fall, Olivia\\'s grandma is out of town. So Sandy drives to the gym and parks in the gym\\'s cool underground parking garage. Olivia, who is buckled into her carseat, falls asleep as soon as the car stops moving. Sandy locks the car and goes into the gym. Olivia is in the car, asleep, for about 15 minutes until Sandy returns.  On a scale of 1 to 10, with 1 being SAFEST/LOWEST RISK, and 10 being MOST DANGEROUS/HIGHEST RISK, what is the risk of some harm coming to the child during the time that the parent is gone?': 'Sandy3',\n",
    "                'Emily G. (28) is an hospital administrator and the mother of Cassidy, age 2-1/2. Emily works the evening shift as a nurse, and stays home with Cassidy during the day. Every Friday afternoon, Emily goes to a yoga class at her favorite yoga studio.  At these times, she leaves Cassidy with a neighbor. One Friday, the neighbor is running late. n. So Emily makes Cassidy a snack, puts on a DVD of her favorite movie, \\'Frozen,\\' and goes to the yoga studio, locking the door behind her. Cassidy is in the house, contentedly eating her snack and watching her movie for about 20 minutes,until the neighbor picks her up. On a scale of 1 to 10, with 1 being SAFEST/LOWEST RISK, and 10 being MOST DANGEROUS/HIGHEST RISK, what is the risk of some harm coming to the child during the time that the parent is gone?': 'Emily3',\n",
    "                'Jan D. (29) is a high-school English teacher and the mother of Grace, age 4. About once a month, Jan volunteers at the public library, helping illiterate adults learn to read. On these days, she leaves Grace with a babysitter. One day, the babysitter cancels at the last minute. So Jan drives to the library with Grace and parks in a shady spot near the entrance. She gives grace her iPad, which Grace immedately begins playing on. Jan gets out of the car, locks the door and goes into the library. Grace is in the car, happily playing on her iPad, for about 30 minutes until Jan returns. On a scale of 1 to 10, with 1 being SAFEST/LOWEST RISK, and 10 being MOST DANGEROUS/HIGHEST RISK, what is the risk of some harm coming to the child during the time that the parent is gone?': 'Jan3',\n",
    "\n",
    "                'Jan D. (29) is a high-school English teacher and the mother of Grace, age 4.  About once a month, Jan takes Grace to the children\\'s reading time at the public library. On one of these trips, Jan and Grace have just left the library and returned to their car, which is parked in a shady spot near the entrance. Jan buckles Grace into her car seat (where Grace immediately begins playing on her iPad), and then realizes that they have forgotten to return a book. Jan locks the car door and walks back into the libraray to return the book. On her way back, Jan is hit by a car and knocked unconscious. The driver immediately calls an ambulance, which takes Jan to the hospital. No one realizes that Jan had a child with her, or that Grace is alone in the car. Grace is in the car, happily playing on her iPad, for about 30 minutes until Jan regains consciousness and alerts hospital staff.  On a scale of 1 to 10, with 1 being SAFEST/LOWEST RISK, and 10 being MOST DANGEROUS/HIGHEST RISK, what is the risk of some harm coming to the child during the time that the parent is gone?': 'Jan4',\n",
    "                'Lisa P. (31)  is a postal worker and the mother of Jenny, age 6. Most afternoons, Lisa picks Jenny up from school and drops her at a friend\\'s house while Lisa goes to a hotel to meet her best friend\\'s husband, with whom she is having a secret affair. One beautiful spring afternoon, the friend is not home. So Lisa drops Jenny off at a park about a mile from their house, and then goes to meet her lover. Jenny is so busy playing in the park that she doesn\\'t notice her mother\\'s absence. Jenny is in the park for about 25 minutes until Lisa returns. On a scale of 1 to 10, with 1 being SAFEST/LOWEST RISK, and 10 being MOST DANGEROUS/HIGHEST RISK, what is the risk of some harm coming to the child during the time that the parent is gone?': 'Lisa4',\n",
    "                'Pauline N. (33) is an accountant and the mother of Susie, age 8. On Wednesday and Saturday afternoons, Pauline takes Susie to karate class after school, and afterward to Starbucks for a treat. While Susie is at karate, Pauline goes to her office, which is down the street from the karate school, to catch up on work. One day, the karate school is closed. So Pauline gives Susie some money, and Susie runs ahead into the Starbucks, while Pauline goes to work. Susie is so absorbed in reading \"The Hunger Games\" and eating her snacks that she barely notices her mother\\'s absence. Susie is in the Starbucks for about 45 minutes, until her mother returns. On a scale of 1 to 10, with 1 being SAFEST/LOWEST RISK, and 10 being MOST DANGEROUS/HIGHEST RISK, what is the risk of some harm coming to the child during the time that the parent is gone?': 'Pauline4',\n",
    "                'Sandy A. (26) is a safety inspector and the mother of 10-month-old Baby Olivia. On Tuesday evenings, Sandy goes to a cardio fitness class at a gym. At these times, she leaves Olivia with her mom (Olivia\\'s grandma). One evening in early fall, Olivia\\'s grandma is out of town. So Sandy drives to the gym and parks in the gym\\'s cool underground parking garage. Olivia, who is buckled into her carseat, falls asleep as soon as the car stops moving. Sandy locks the car and goes into the gym. Olivia is in the car, asleep, for about 15 minutes until Sandy returns.   On a scale of 1 to 10, with 1 being SAFEST/LOWEST RISK, and 10 being MOST DANGEROUS/HIGHEST RISK, what is the risk of some harm coming to the child during the time that the parent is gone?': 'Sandy4',\n",
    "                'Emily G. (28) is an hospital administrator and the mother of Cassidy, age 2-1/2. Emily works the evening shift as a nurse, and stays home with Cassidy during the day. Every Friday afternoon, Emily volunteers at a local clinic, helping stroke patients learn to walk again. At these times, she leaves Cassidy with a neighbor. One Friday, the neighbor is running late.  So Emily makes Cassidy a snack, puts on a DVD of her favorite movie, \\'Frozen,\\' and goes to the clinic, locking the door behind her. Cassidy is in the house, contentedly eating her snack and watching her movie for about 20 minutes,until the neighbor picks her up. On a scale of 1 to 10, with 1 being SAFEST/LOWEST RISK, and 10 being MOST DANGEROUS/HIGHEST RISK, what is the risk of some harm coming to the child during the time that the parent is gone?': 'Emily4',\n",
    "\n",
    "                'Emily G. (28) is an hospital administrator and the mother of Cassidy, age 2-1/2. Emily works the evening shift as a nurse, and stays home with Cassidy during the day. One day, Cassidy is eating a snack and watching a DVD of her favorite movie, \\'Frozen,\\' when Emily walks out to the curb to get the mail, locking the door behind her. While standing in front of her mailbox, Emily is hit by a car and knocked unconscious. The driver immediately calls an ambulance, which takes Emily to the hospital. No one realizes that Emily was caring for a child. Cassidy is in the house, contentedly eating her snack and watching her movie, for about 20 minutes until Emily regains consciousness and alerts hospital staff.  On a scale of 1 to 10, with 1 being SAFEST/LOWEST RISK, and 10 being MOST DANGEROUS/HIGHEST RISK, what is the risk of some harm coming to the child during the time that the parent is gone?': 'Emily5',\n",
    "                'Jan D. (29) is a high-school English teacher and the mother of Grace, age 4. About once a month, Jan goes to meet her best friend\\'s husband (with whom she is having a secret affair) in his private office at the public library where he works. On these days, she leaves Grace with a babysitter. One day, the babysitter cancels at the last minute. So Jan drives to the library with Grace and parks in a shady spot near the entrance. She gives grace her iPad, which Grace immedately begins playing on. Jan gets out of the car, locks the door and goes into the library. Grace is in the car, happily playing on her iPad, for about 30 minutes until Jan returns. On a scale of 1 to 10, with 1 being SAFEST/LOWEST RISK, and 10 being MOST DANGEROUS/HIGHEST RISK, what is the risk of some harm coming to the child during the time that the parent is gone?': 'Jan5',\n",
    "                'Lisa P. (31)  is a postal worker and the mother of Jenny, age 6. Most afternoons, Lisa picks Jenny up from school and drops her at a friend\\'s house while Lisa finishes her deliveries. One beautiful spring afternoon, the friend is not home. So Lisa drops Jenny off at a park about a mile from their house, and then goes to finish her route. Jenny is so busy playing in the park that she doesn\\'t notice her mother\\'s absence. Jenny is in the park for about 25 minutes until Lisa returns. On a scale of 1 to 10, with 1 being SAFEST/LOWEST RISK, and 10 being MOST DANGEROUS/HIGHEST RISK, what is the risk of some harm coming to the child during the time that the parent is gone?': 'Lisa5',\n",
    "                'Pauline N. (33) is an accountant and the mother of Susie, age 8. On Wednesday and Saturday afternoons, Pauline takes Susie to karate class after school, and afterward to Starbucks for a treat. While Susie is at karate, Pauline goes to a spa, which is down the street from the karate school, and gets a massage. One day, the karate school is closed. So Pauline gives Susie some money, and Susie runs ahead into the Starbucks, while Pauline goes to get her massage. Susie is so absorbed in reading \"The Hunger Games\" and eating her snacks that she barely notices her mother\\'s absence. Susie is in the Starbucks for about 45 minutes, until her mother returns. On a scale of 1 to 10, with 1 being SAFEST/LOWEST RISK, and 10 being MOST DANGEROUS/HIGHEST RISK, what is the risk of some harm coming to the child during the time that the parent is gone?': 'Pauline5',\n",
    "                'Sandy A. (26) is a safety inspector and the mother of 10-month-old Baby Olivia. On Tuesday evenings, Sandy volunteers at a local gym, helping stroke patients learn to walk again. At these times, she leaves Olivia with her mom (Olivia\\'s grandma). One evening in early fall, Olivia\\'s grandma is out of town. So Sandy drives to the gym and parks in the gym\\'s cool underground parking garage. Olivia, who is buckled into her carseat, falls asleep as soon as the car stops moving. Sandy locks the car and goes into the gym. Olivia is in the car, asleep, for about 15 minutes until Sandy returns.  On a scale of 1 to 10, with 1 being SAFEST/LOWEST RISK, and 10 being MOST DANGEROUS/HIGHEST RISK, what is the risk of some harm coming to the child during the time that the parent is gone?': 'Sandy5'}, axis='columns')\n"
   ]
  },
  {
   "cell_type": "markdown",
   "id": "8e73d9a8",
   "metadata": {},
   "source": [
    "## Rasch Model"
   ]
  },
  {
   "cell_type": "markdown",
   "id": "a3fc52e8",
   "metadata": {},
   "source": [
    "Rasch JASP format:\n",
    "* column 1: person (numerical, can have multiple entries for a person for each question)\n",
    "* column 2: question (numerical, make a key (Sandy1, Emily1, Sandy2, etc) for each question; can have multiple people for each question)\n",
    "* column 3: correct (numerical 0 or 1, compare subject's responses against ground truth)\n",
    "    * are all \"correct\" answers 1 since the vignettes are risky\n",
    "\n",
    "\n",
    "* transpose and flip matrix on its side to get the questions into rows instead of columns ???\n",
    "\n",
    "* code risk perception levels 1-5 as 0 (non-risky, aka incorrect answer)\n",
    "* code risk perception levels 6-10 as 1 (risky, aka correct answer)\n",
    "\n"
   ]
  },
  {
   "cell_type": "markdown",
   "id": "bc5d1098",
   "metadata": {},
   "source": [
    "### Make Rasch df"
   ]
  },
  {
   "cell_type": "code",
   "execution_count": 9,
   "id": "ff9edfe9",
   "metadata": {},
   "outputs": [
    {
     "name": "stdout",
     "output_type": "stream",
     "text": [
      "number of unique subject IDs: 232\n"
     ]
    }
   ],
   "source": [
    "# make new ID column with no gaps\n",
    "print('number of unique subject IDs:', df['ID'].nunique()) #each subject ID row is different\n",
    "df['person'] = np.arange(len(df['ID'])) + 1\n",
    "\n",
    "# make df for rasch model using person, question, and correct\n",
    "raschdf = df[['person', 'Sandy1', 'Emily1', 'Jan1', 'Lisa1', 'Pauline1', \n",
    "                'Pauline2', 'Sandy2', 'Emily2', 'Jan2', 'Lisa2', \n",
    "                'Lisa3', 'Pauline3', 'Sandy3', 'Emily3', 'Jan3', \n",
    "                'Jan4', 'Lisa4', 'Pauline4', 'Sandy4', 'Emily4',\n",
    "                'Emily5', 'Jan5', 'Lisa5', 'Pauline5', 'Sandy5']]\n",
    "\n",
    "# reformat raschdf for JASP\n",
    "raschdf = pd.melt(raschdf, id_vars=['person'], var_name = 'question', value_name = 'correct')\n",
    "\n",
    "# remove blank entries for questions people did not answer\n",
    "raschdf = raschdf.dropna(subset=[\"correct\"]) #drop rows where reponses was nan\n",
    "\n",
    "# make column for questionType\n",
    "raschdf['questionType'] = raschdf['question'].str.extract('(\\d+)').astype(int)\n",
    "\n",
    "#change response to 0s and 1s (risk perception)\n",
    "raschdf['correct'] = raschdf['correct'].apply(lambda x: 1 if x > 5 else 0)"
   ]
  },
  {
   "cell_type": "markdown",
   "id": "95e19f24",
   "metadata": {},
   "source": [
    "## Rasch model save file"
   ]
  },
  {
   "cell_type": "code",
   "execution_count": 10,
   "id": "454d5d0a",
   "metadata": {},
   "outputs": [
    {
     "name": "stdout",
     "output_type": "stream",
     "text": [
      "Data saved successfully to Thomas2016_study1.csv\n"
     ]
    }
   ],
   "source": [
    "# write data out to a csv file\n",
    "filename = 'Thomas2016_study1.csv'\n",
    "raschdf.to_csv(filename, index=False) \n",
    "print('Data saved successfully to', filename)"
   ]
  }
 ],
 "metadata": {
  "celltoolbar": "Slideshow",
  "kernelspec": {
   "display_name": "Python 3 (ipykernel)",
   "language": "python",
   "name": "python3"
  },
  "language_info": {
   "codemirror_mode": {
    "name": "ipython",
    "version": 3
   },
   "file_extension": ".py",
   "mimetype": "text/x-python",
   "name": "python",
   "nbconvert_exporter": "python",
   "pygments_lexer": "ipython3",
   "version": "3.11.4"
  }
 },
 "nbformat": 4,
 "nbformat_minor": 5
}
